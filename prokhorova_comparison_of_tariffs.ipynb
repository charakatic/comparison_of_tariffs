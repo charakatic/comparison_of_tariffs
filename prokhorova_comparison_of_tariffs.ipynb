{
 "cells": [
  {
   "cell_type": "markdown",
   "id": "98536d09",
   "metadata": {},
   "source": [
    "# Определение перспективного тарифа для телеком компании\n",
    "\n",
    "В нашем распоряжении данные компании — федерального оператора сотовой связи. Клиентам предлагают два тарифных плана: «Смарт» и «Ультра». Чтобы скорректировать рекламный бюджет, нужно проанализировать, какой тариф приносит больше денег.\n",
    "Предоставлены данные 500 пользователей, содержащие следующие сведения: возраст, город проживания, каким тарифом пользуются, сколько звонков и сообщений каждый отправил за 2018 год. Нужно проанализировать поведение клиентов и сделать вывод — какой тариф приносит компании больше средств."
   ]
  },
  {
   "cell_type": "markdown",
   "id": "273fc5ae",
   "metadata": {},
   "source": [
    "## Изучение данных из файла"
   ]
  },
  {
   "cell_type": "markdown",
   "id": "3945ccd9",
   "metadata": {},
   "source": [
    "Загрузим библиотеки, которые понадобятся."
   ]
  },
  {
   "cell_type": "code",
   "execution_count": 1,
   "id": "748cc200",
   "metadata": {},
   "outputs": [],
   "source": [
    "import pandas as pd\n",
    "import numpy as np\n",
    "import math\n",
    "import matplotlib.pyplot as plt \n",
    "from scipy import stats as st\n",
    "from scipy.stats import norm\n",
    "import seaborn as sns \n",
    "\n",
    "import warnings\n",
    "warnings.filterwarnings('ignore')"
   ]
  },
  {
   "cell_type": "markdown",
   "id": "465cd7e0",
   "metadata": {},
   "source": [
    "Прочитаем файлы csv и сохраним его в соответствующих переменных."
   ]
  },
  {
   "cell_type": "code",
   "execution_count": 2,
   "id": "3dd5f4ac",
   "metadata": {},
   "outputs": [
    {
     "data": {
      "text/html": [
       "<div>\n",
       "<style scoped>\n",
       "    .dataframe tbody tr th:only-of-type {\n",
       "        vertical-align: middle;\n",
       "    }\n",
       "\n",
       "    .dataframe tbody tr th {\n",
       "        vertical-align: top;\n",
       "    }\n",
       "\n",
       "    .dataframe thead th {\n",
       "        text-align: right;\n",
       "    }\n",
       "</style>\n",
       "<table border=\"1\" class=\"dataframe\">\n",
       "  <thead>\n",
       "    <tr style=\"text-align: right;\">\n",
       "      <th></th>\n",
       "      <th>id</th>\n",
       "      <th>call_date</th>\n",
       "      <th>duration</th>\n",
       "      <th>user_id</th>\n",
       "    </tr>\n",
       "  </thead>\n",
       "  <tbody>\n",
       "    <tr>\n",
       "      <th>0</th>\n",
       "      <td>1000_0</td>\n",
       "      <td>2018-07-25</td>\n",
       "      <td>0.00</td>\n",
       "      <td>1000</td>\n",
       "    </tr>\n",
       "    <tr>\n",
       "      <th>1</th>\n",
       "      <td>1000_1</td>\n",
       "      <td>2018-08-17</td>\n",
       "      <td>0.00</td>\n",
       "      <td>1000</td>\n",
       "    </tr>\n",
       "    <tr>\n",
       "      <th>2</th>\n",
       "      <td>1000_2</td>\n",
       "      <td>2018-06-11</td>\n",
       "      <td>2.85</td>\n",
       "      <td>1000</td>\n",
       "    </tr>\n",
       "    <tr>\n",
       "      <th>3</th>\n",
       "      <td>1000_3</td>\n",
       "      <td>2018-09-21</td>\n",
       "      <td>13.80</td>\n",
       "      <td>1000</td>\n",
       "    </tr>\n",
       "    <tr>\n",
       "      <th>4</th>\n",
       "      <td>1000_4</td>\n",
       "      <td>2018-12-15</td>\n",
       "      <td>5.18</td>\n",
       "      <td>1000</td>\n",
       "    </tr>\n",
       "  </tbody>\n",
       "</table>\n",
       "</div>"
      ],
      "text/plain": [
       "       id   call_date  duration  user_id\n",
       "0  1000_0  2018-07-25      0.00     1000\n",
       "1  1000_1  2018-08-17      0.00     1000\n",
       "2  1000_2  2018-06-11      2.85     1000\n",
       "3  1000_3  2018-09-21     13.80     1000\n",
       "4  1000_4  2018-12-15      5.18     1000"
      ]
     },
     "metadata": {},
     "output_type": "display_data"
    }
   ],
   "source": [
    "try:\n",
    "    calls = pd.read_csv('/datasets/calls.csv')\n",
    "except:\n",
    "    calls = pd.read_csv('calls.csv')\n",
    "display(calls.head(5))"
   ]
  },
  {
   "cell_type": "markdown",
   "id": "0293759c",
   "metadata": {},
   "source": [
    "Таблица calls (информация о звонках):\n",
    "\n",
    "•\tid — уникальный номер звонка\n",
    "\n",
    "•\tcall_date — дата звонка\n",
    "\n",
    "•\tduration — длительность звонка в минутах\n",
    "\n",
    "•\tuser_id — идентификатор пользователя, сделавшего звонок"
   ]
  },
  {
   "cell_type": "code",
   "execution_count": 3,
   "id": "cb06fd00",
   "metadata": {},
   "outputs": [
    {
     "name": "stdout",
     "output_type": "stream",
     "text": [
      "Общее число записей calls:\n",
      "202607\n",
      "\n",
      "<class 'pandas.core.frame.DataFrame'>\n",
      "RangeIndex: 202607 entries, 0 to 202606\n",
      "Data columns (total 4 columns):\n",
      " #   Column     Non-Null Count   Dtype  \n",
      "---  ------     --------------   -----  \n",
      " 0   id         202607 non-null  object \n",
      " 1   call_date  202607 non-null  object \n",
      " 2   duration   202607 non-null  float64\n",
      " 3   user_id    202607 non-null  int64  \n",
      "dtypes: float64(1), int64(1), object(2)\n",
      "memory usage: 6.2+ MB\n",
      "None\n"
     ]
    }
   ],
   "source": [
    "print('Общее число записей calls:')\n",
    "print(calls.shape[0])\n",
    "print()\n",
    "print(calls.info())"
   ]
  },
  {
   "cell_type": "code",
   "execution_count": 4,
   "id": "71ffe3aa",
   "metadata": {},
   "outputs": [
    {
     "name": "stdout",
     "output_type": "stream",
     "text": [
      "Максимальная длительность звонка:\n"
     ]
    },
    {
     "data": {
      "text/plain": [
       "38.0"
      ]
     },
     "execution_count": 4,
     "metadata": {},
     "output_type": "execute_result"
    }
   ],
   "source": [
    "print('Максимальная длительность звонка:')\n",
    "calls['duration'].max()"
   ]
  },
  {
   "cell_type": "markdown",
   "id": "cff1faca",
   "metadata": {},
   "source": [
    "Максимальная длительность звонка не похожа на аномальную, ошибок нет."
   ]
  },
  {
   "cell_type": "code",
   "execution_count": 5,
   "id": "17d57e50",
   "metadata": {},
   "outputs": [
    {
     "name": "stdout",
     "output_type": "stream",
     "text": [
      "Количество звонков с нулевой длительностью:\n"
     ]
    },
    {
     "data": {
      "text/plain": [
       "39613"
      ]
     },
     "execution_count": 5,
     "metadata": {},
     "output_type": "execute_result"
    }
   ],
   "source": [
    "print('Количество звонков с нулевой длительностью:')\n",
    "calls.query('duration == 0.00').shape[0]"
   ]
  },
  {
   "cell_type": "markdown",
   "id": "bd0b660b",
   "metadata": {},
   "source": [
    "Звонки длительностью 0.00 могут быть пропущенными, либо клиент не пользовался звонками, а использовал симку для интернета. При расчете дисперсии, стандартного отклонения их не стоит принимать во внимание.\n",
    "\n",
    "«Мегалайн» всегда округляет секунды до минут, а мегабайты — до гигабайт. Каждый звонок округляется отдельно: даже если он длился всего 1 секунду, будет засчитан как 1 минута. Поэтому округлим значения в столбце duration до минуты и приведем к типу int. \n",
    "\n",
    "Данные следует сгруппировать по user_id и по отдельному стобцу month. Тип данных call_date следует преобразовать в datetime"
   ]
  },
  {
   "cell_type": "code",
   "execution_count": 6,
   "id": "1182f69e",
   "metadata": {},
   "outputs": [
    {
     "data": {
      "text/html": [
       "<div>\n",
       "<style scoped>\n",
       "    .dataframe tbody tr th:only-of-type {\n",
       "        vertical-align: middle;\n",
       "    }\n",
       "\n",
       "    .dataframe tbody tr th {\n",
       "        vertical-align: top;\n",
       "    }\n",
       "\n",
       "    .dataframe thead th {\n",
       "        text-align: right;\n",
       "    }\n",
       "</style>\n",
       "<table border=\"1\" class=\"dataframe\">\n",
       "  <thead>\n",
       "    <tr style=\"text-align: right;\">\n",
       "      <th></th>\n",
       "      <th>Unnamed: 0</th>\n",
       "      <th>id</th>\n",
       "      <th>mb_used</th>\n",
       "      <th>session_date</th>\n",
       "      <th>user_id</th>\n",
       "    </tr>\n",
       "  </thead>\n",
       "  <tbody>\n",
       "    <tr>\n",
       "      <th>0</th>\n",
       "      <td>0</td>\n",
       "      <td>1000_0</td>\n",
       "      <td>112.95</td>\n",
       "      <td>2018-11-25</td>\n",
       "      <td>1000</td>\n",
       "    </tr>\n",
       "    <tr>\n",
       "      <th>1</th>\n",
       "      <td>1</td>\n",
       "      <td>1000_1</td>\n",
       "      <td>1052.81</td>\n",
       "      <td>2018-09-07</td>\n",
       "      <td>1000</td>\n",
       "    </tr>\n",
       "    <tr>\n",
       "      <th>2</th>\n",
       "      <td>2</td>\n",
       "      <td>1000_2</td>\n",
       "      <td>1197.26</td>\n",
       "      <td>2018-06-25</td>\n",
       "      <td>1000</td>\n",
       "    </tr>\n",
       "    <tr>\n",
       "      <th>3</th>\n",
       "      <td>3</td>\n",
       "      <td>1000_3</td>\n",
       "      <td>550.27</td>\n",
       "      <td>2018-08-22</td>\n",
       "      <td>1000</td>\n",
       "    </tr>\n",
       "    <tr>\n",
       "      <th>4</th>\n",
       "      <td>4</td>\n",
       "      <td>1000_4</td>\n",
       "      <td>302.56</td>\n",
       "      <td>2018-09-24</td>\n",
       "      <td>1000</td>\n",
       "    </tr>\n",
       "  </tbody>\n",
       "</table>\n",
       "</div>"
      ],
      "text/plain": [
       "   Unnamed: 0      id  mb_used session_date  user_id\n",
       "0           0  1000_0   112.95   2018-11-25     1000\n",
       "1           1  1000_1  1052.81   2018-09-07     1000\n",
       "2           2  1000_2  1197.26   2018-06-25     1000\n",
       "3           3  1000_3   550.27   2018-08-22     1000\n",
       "4           4  1000_4   302.56   2018-09-24     1000"
      ]
     },
     "metadata": {},
     "output_type": "display_data"
    }
   ],
   "source": [
    "try:\n",
    "    internet = pd.read_csv('/datasets/internet.csv')\n",
    "except:\n",
    "    internet = pd.read_csv('internet.csv')\n",
    "display(internet.head(5))"
   ]
  },
  {
   "cell_type": "markdown",
   "id": "09166c0c",
   "metadata": {},
   "source": [
    "Таблица internet (информация об интернет-сессиях):\n",
    "\n",
    "•\tid — уникальный номер сессии\n",
    "\n",
    "•\tmb_used — объём потраченного за сессию интернет-трафика (в мегабайтах)\n",
    "\n",
    "•\tsession_date — дата интернет-сессии\n",
    "\n",
    "•\tuser_id — идентификатор пользователя"
   ]
  },
  {
   "cell_type": "code",
   "execution_count": 7,
   "id": "27224323",
   "metadata": {},
   "outputs": [
    {
     "name": "stdout",
     "output_type": "stream",
     "text": [
      "Общее число записей internet:\n",
      "149396\n",
      "\n",
      "<class 'pandas.core.frame.DataFrame'>\n",
      "RangeIndex: 149396 entries, 0 to 149395\n",
      "Data columns (total 5 columns):\n",
      " #   Column        Non-Null Count   Dtype  \n",
      "---  ------        --------------   -----  \n",
      " 0   Unnamed: 0    149396 non-null  int64  \n",
      " 1   id            149396 non-null  object \n",
      " 2   mb_used       149396 non-null  float64\n",
      " 3   session_date  149396 non-null  object \n",
      " 4   user_id       149396 non-null  int64  \n",
      "dtypes: float64(1), int64(2), object(2)\n",
      "memory usage: 5.7+ MB\n",
      "None\n"
     ]
    }
   ],
   "source": [
    "print('Общее число записей internet:')\n",
    "print(internet.shape[0])\n",
    "print()\n",
    "print(internet.info())"
   ]
  },
  {
   "cell_type": "code",
   "execution_count": 8,
   "id": "96db3dc3",
   "metadata": {},
   "outputs": [
    {
     "name": "stdout",
     "output_type": "stream",
     "text": [
      "Максимальная количество мегабайтов:\n"
     ]
    },
    {
     "data": {
      "text/plain": [
       "1724.83"
      ]
     },
     "execution_count": 8,
     "metadata": {},
     "output_type": "execute_result"
    }
   ],
   "source": [
    "print('Максимальная количество мегабайтов:')\n",
    "internet['mb_used'].max()"
   ]
  },
  {
   "cell_type": "markdown",
   "id": "2aa44660",
   "metadata": {},
   "source": [
    "Максимальная количество мегабайтов не похоже на аномальное значение, оставляем."
   ]
  },
  {
   "cell_type": "code",
   "execution_count": 9,
   "id": "eddd28bb",
   "metadata": {},
   "outputs": [
    {
     "name": "stdout",
     "output_type": "stream",
     "text": [
      "Количество записей с потраченным за сессию нулевым интернет-трафиком:\n"
     ]
    },
    {
     "data": {
      "text/plain": [
       "19598"
      ]
     },
     "execution_count": 9,
     "metadata": {},
     "output_type": "execute_result"
    }
   ],
   "source": [
    "print('Количество записей с потраченным за сессию нулевым интернет-трафиком:')\n",
    "internet.query('mb_used == 0.00').shape[0]"
   ]
  },
  {
   "cell_type": "markdown",
   "id": "8f8d5b4f",
   "metadata": {},
   "source": [
    "Для веб-трафика отдельные сессии не считаются. Вместо этого общая сумма за месяц округляется в бо́льшую сторону. Если абонент использует 1025 мегабайт в этом месяце, с него возьмут плату за 2 гигабайта. Поэтому данные сперва следует сгруппировать по user_id и по отдельному стобцу month, а потом округлить до Гб столбец mb_used и привести его к типу int. Данные с нулевым трафиком, вероятно, означают, что пользователь не пользовался интернетом.\n",
    "Тип данных session_date следует преобразовать в datetime"
   ]
  },
  {
   "cell_type": "code",
   "execution_count": 10,
   "id": "1e7155f3",
   "metadata": {},
   "outputs": [
    {
     "data": {
      "text/html": [
       "<div>\n",
       "<style scoped>\n",
       "    .dataframe tbody tr th:only-of-type {\n",
       "        vertical-align: middle;\n",
       "    }\n",
       "\n",
       "    .dataframe tbody tr th {\n",
       "        vertical-align: top;\n",
       "    }\n",
       "\n",
       "    .dataframe thead th {\n",
       "        text-align: right;\n",
       "    }\n",
       "</style>\n",
       "<table border=\"1\" class=\"dataframe\">\n",
       "  <thead>\n",
       "    <tr style=\"text-align: right;\">\n",
       "      <th></th>\n",
       "      <th>id</th>\n",
       "      <th>message_date</th>\n",
       "      <th>user_id</th>\n",
       "    </tr>\n",
       "  </thead>\n",
       "  <tbody>\n",
       "    <tr>\n",
       "      <th>0</th>\n",
       "      <td>1000_0</td>\n",
       "      <td>2018-06-27</td>\n",
       "      <td>1000</td>\n",
       "    </tr>\n",
       "    <tr>\n",
       "      <th>1</th>\n",
       "      <td>1000_1</td>\n",
       "      <td>2018-10-08</td>\n",
       "      <td>1000</td>\n",
       "    </tr>\n",
       "    <tr>\n",
       "      <th>2</th>\n",
       "      <td>1000_2</td>\n",
       "      <td>2018-08-04</td>\n",
       "      <td>1000</td>\n",
       "    </tr>\n",
       "    <tr>\n",
       "      <th>3</th>\n",
       "      <td>1000_3</td>\n",
       "      <td>2018-06-16</td>\n",
       "      <td>1000</td>\n",
       "    </tr>\n",
       "    <tr>\n",
       "      <th>4</th>\n",
       "      <td>1000_4</td>\n",
       "      <td>2018-12-05</td>\n",
       "      <td>1000</td>\n",
       "    </tr>\n",
       "  </tbody>\n",
       "</table>\n",
       "</div>"
      ],
      "text/plain": [
       "       id message_date  user_id\n",
       "0  1000_0   2018-06-27     1000\n",
       "1  1000_1   2018-10-08     1000\n",
       "2  1000_2   2018-08-04     1000\n",
       "3  1000_3   2018-06-16     1000\n",
       "4  1000_4   2018-12-05     1000"
      ]
     },
     "metadata": {},
     "output_type": "display_data"
    }
   ],
   "source": [
    "try:\n",
    "    messages = pd.read_csv('/datasets/messages.csv')\n",
    "except:\n",
    "    messages = pd.read_csv('messages.csv')\n",
    "display(messages.head(5))"
   ]
  },
  {
   "cell_type": "markdown",
   "id": "5d93cb75",
   "metadata": {},
   "source": [
    "Таблица messages (информация о сообщениях):\n",
    "\n",
    "•\tid — уникальный номер сообщения\n",
    "\n",
    "•\tmessage_date — дата сообщения\n",
    "\n",
    "•\tuser_id — идентификатор пользователя, отправившего сообщение\n"
   ]
  },
  {
   "cell_type": "code",
   "execution_count": 11,
   "id": "bb1184c6",
   "metadata": {},
   "outputs": [
    {
     "name": "stdout",
     "output_type": "stream",
     "text": [
      "Общее число записей messages:\n",
      "123036\n",
      "\n",
      "<class 'pandas.core.frame.DataFrame'>\n",
      "RangeIndex: 123036 entries, 0 to 123035\n",
      "Data columns (total 3 columns):\n",
      " #   Column        Non-Null Count   Dtype \n",
      "---  ------        --------------   ----- \n",
      " 0   id            123036 non-null  object\n",
      " 1   message_date  123036 non-null  object\n",
      " 2   user_id       123036 non-null  int64 \n",
      "dtypes: int64(1), object(2)\n",
      "memory usage: 2.8+ MB\n",
      "None\n"
     ]
    }
   ],
   "source": [
    "print('Общее число записей messages:')\n",
    "print(messages.shape[0])\n",
    "print()\n",
    "print(messages.info())"
   ]
  },
  {
   "cell_type": "markdown",
   "id": "f43575ac",
   "metadata": {},
   "source": [
    "Данные следует сгруппировать по user_id и по отдельному стобцу month. Тип данных message_date следует преобразовать в datetime"
   ]
  },
  {
   "cell_type": "code",
   "execution_count": 12,
   "id": "072ff64a",
   "metadata": {},
   "outputs": [
    {
     "data": {
      "text/html": [
       "<div>\n",
       "<style scoped>\n",
       "    .dataframe tbody tr th:only-of-type {\n",
       "        vertical-align: middle;\n",
       "    }\n",
       "\n",
       "    .dataframe tbody tr th {\n",
       "        vertical-align: top;\n",
       "    }\n",
       "\n",
       "    .dataframe thead th {\n",
       "        text-align: right;\n",
       "    }\n",
       "</style>\n",
       "<table border=\"1\" class=\"dataframe\">\n",
       "  <thead>\n",
       "    <tr style=\"text-align: right;\">\n",
       "      <th></th>\n",
       "      <th>messages_included</th>\n",
       "      <th>mb_per_month_included</th>\n",
       "      <th>minutes_included</th>\n",
       "      <th>rub_monthly_fee</th>\n",
       "      <th>rub_per_gb</th>\n",
       "      <th>rub_per_message</th>\n",
       "      <th>rub_per_minute</th>\n",
       "      <th>tariff_name</th>\n",
       "    </tr>\n",
       "  </thead>\n",
       "  <tbody>\n",
       "    <tr>\n",
       "      <th>0</th>\n",
       "      <td>50</td>\n",
       "      <td>15360</td>\n",
       "      <td>500</td>\n",
       "      <td>550</td>\n",
       "      <td>200</td>\n",
       "      <td>3</td>\n",
       "      <td>3</td>\n",
       "      <td>smart</td>\n",
       "    </tr>\n",
       "    <tr>\n",
       "      <th>1</th>\n",
       "      <td>1000</td>\n",
       "      <td>30720</td>\n",
       "      <td>3000</td>\n",
       "      <td>1950</td>\n",
       "      <td>150</td>\n",
       "      <td>1</td>\n",
       "      <td>1</td>\n",
       "      <td>ultra</td>\n",
       "    </tr>\n",
       "  </tbody>\n",
       "</table>\n",
       "</div>"
      ],
      "text/plain": [
       "   messages_included  mb_per_month_included  minutes_included  \\\n",
       "0                 50                  15360               500   \n",
       "1               1000                  30720              3000   \n",
       "\n",
       "   rub_monthly_fee  rub_per_gb  rub_per_message  rub_per_minute tariff_name  \n",
       "0              550         200                3               3       smart  \n",
       "1             1950         150                1               1       ultra  "
      ]
     },
     "metadata": {},
     "output_type": "display_data"
    }
   ],
   "source": [
    "try:\n",
    "    tariffs = pd.read_csv('/datasets/tariffs.csv')\n",
    "except:\n",
    "    tariffs = pd.read_csv('tariffs.csv')\n",
    "display(tariffs.head(5))"
   ]
  },
  {
   "cell_type": "markdown",
   "id": "0ee6df93",
   "metadata": {},
   "source": [
    "Таблица tariffs (информация о тарифах):\n",
    "\n",
    "•\ttariff_name — название тарифа\n",
    "\n",
    "•\trub_monthly_fee — ежемесячная абонентская плата в рублях\n",
    "\n",
    "•\tminutes_included — количество минут разговора в месяц, включённых в абонентскую плату\n",
    "\n",
    "•\tmessages_included — количество сообщений в месяц, включённых в абонентскую плату\n",
    "\n",
    "•\tmb_per_month_included — объём интернет-трафика, включённого в абонентскую плату (в мегабайтах)\n",
    "\n",
    "•\trub_per_minute — стоимость минуты разговора сверх тарифного пакета (например, если в тарифе 100 минут разговора в месяц, то со 101 минуты будет взиматься плата)\n",
    "\n",
    "•\trub_per_message — стоимость отправки сообщения сверх тарифного пакета\n",
    "\n",
    "•\trub_per_gb — стоимость дополнительного гигабайта интернет-трафика сверх тарифного пакета (1 гигабайт = 1024 мегабайта)"
   ]
  },
  {
   "cell_type": "markdown",
   "id": "40b43dae",
   "metadata": {},
   "source": [
    "Эта сводная информационна таблица о типах тарифов. Данные представлены в мб, следует перевести в гб."
   ]
  },
  {
   "cell_type": "code",
   "execution_count": 13,
   "id": "900b2cf4",
   "metadata": {},
   "outputs": [
    {
     "data": {
      "text/html": [
       "<div>\n",
       "<style scoped>\n",
       "    .dataframe tbody tr th:only-of-type {\n",
       "        vertical-align: middle;\n",
       "    }\n",
       "\n",
       "    .dataframe tbody tr th {\n",
       "        vertical-align: top;\n",
       "    }\n",
       "\n",
       "    .dataframe thead th {\n",
       "        text-align: right;\n",
       "    }\n",
       "</style>\n",
       "<table border=\"1\" class=\"dataframe\">\n",
       "  <thead>\n",
       "    <tr style=\"text-align: right;\">\n",
       "      <th></th>\n",
       "      <th>user_id</th>\n",
       "      <th>age</th>\n",
       "      <th>churn_date</th>\n",
       "      <th>city</th>\n",
       "      <th>first_name</th>\n",
       "      <th>last_name</th>\n",
       "      <th>reg_date</th>\n",
       "      <th>tariff</th>\n",
       "    </tr>\n",
       "  </thead>\n",
       "  <tbody>\n",
       "    <tr>\n",
       "      <th>0</th>\n",
       "      <td>1000</td>\n",
       "      <td>52</td>\n",
       "      <td>NaN</td>\n",
       "      <td>Краснодар</td>\n",
       "      <td>Рафаил</td>\n",
       "      <td>Верещагин</td>\n",
       "      <td>2018-05-25</td>\n",
       "      <td>ultra</td>\n",
       "    </tr>\n",
       "    <tr>\n",
       "      <th>1</th>\n",
       "      <td>1001</td>\n",
       "      <td>41</td>\n",
       "      <td>NaN</td>\n",
       "      <td>Москва</td>\n",
       "      <td>Иван</td>\n",
       "      <td>Ежов</td>\n",
       "      <td>2018-11-01</td>\n",
       "      <td>smart</td>\n",
       "    </tr>\n",
       "    <tr>\n",
       "      <th>2</th>\n",
       "      <td>1002</td>\n",
       "      <td>59</td>\n",
       "      <td>NaN</td>\n",
       "      <td>Стерлитамак</td>\n",
       "      <td>Евгений</td>\n",
       "      <td>Абрамович</td>\n",
       "      <td>2018-06-17</td>\n",
       "      <td>smart</td>\n",
       "    </tr>\n",
       "    <tr>\n",
       "      <th>3</th>\n",
       "      <td>1003</td>\n",
       "      <td>23</td>\n",
       "      <td>NaN</td>\n",
       "      <td>Москва</td>\n",
       "      <td>Белла</td>\n",
       "      <td>Белякова</td>\n",
       "      <td>2018-08-17</td>\n",
       "      <td>ultra</td>\n",
       "    </tr>\n",
       "    <tr>\n",
       "      <th>4</th>\n",
       "      <td>1004</td>\n",
       "      <td>68</td>\n",
       "      <td>NaN</td>\n",
       "      <td>Новокузнецк</td>\n",
       "      <td>Татьяна</td>\n",
       "      <td>Авдеенко</td>\n",
       "      <td>2018-05-14</td>\n",
       "      <td>ultra</td>\n",
       "    </tr>\n",
       "  </tbody>\n",
       "</table>\n",
       "</div>"
      ],
      "text/plain": [
       "   user_id  age churn_date         city first_name  last_name    reg_date  \\\n",
       "0     1000   52        NaN    Краснодар     Рафаил  Верещагин  2018-05-25   \n",
       "1     1001   41        NaN       Москва       Иван       Ежов  2018-11-01   \n",
       "2     1002   59        NaN  Стерлитамак    Евгений  Абрамович  2018-06-17   \n",
       "3     1003   23        NaN       Москва      Белла   Белякова  2018-08-17   \n",
       "4     1004   68        NaN  Новокузнецк    Татьяна   Авдеенко  2018-05-14   \n",
       "\n",
       "  tariff  \n",
       "0  ultra  \n",
       "1  smart  \n",
       "2  smart  \n",
       "3  ultra  \n",
       "4  ultra  "
      ]
     },
     "metadata": {},
     "output_type": "display_data"
    }
   ],
   "source": [
    "try:\n",
    "    users = pd.read_csv('/datasets/users.csv')\n",
    "except:\n",
    "    users = pd.read_csv('users.csv')\n",
    "display(users.head(5))"
   ]
  },
  {
   "cell_type": "markdown",
   "id": "4bc79a23",
   "metadata": {},
   "source": [
    "Таблица users (информация о пользователях):\n",
    "\n",
    "•\tuser_id — уникальный идентификатор пользователя\n",
    "\n",
    "•\tfirst_name — имя пользователя\n",
    "\n",
    "•\tlast_name — фамилия пользователя\n",
    "\n",
    "•\tage — возраст пользователя (годы)\n",
    "\n",
    "•\treg_date — дата подключения тарифа (день, месяц, год)\n",
    "\n",
    "•\tchurn_date — дата прекращения пользования тарифом (если значение пропущено, то тариф ещё действовал на момент выгрузки данных)\n",
    "\n",
    "•\tcity — город проживания пользователя\n",
    "\n",
    "•\ttariff — название тарифного плана"
   ]
  },
  {
   "cell_type": "code",
   "execution_count": 14,
   "id": "6dedfcd6",
   "metadata": {},
   "outputs": [
    {
     "name": "stdout",
     "output_type": "stream",
     "text": [
      "Общее число записей users:\n",
      "500\n",
      "\n",
      "<class 'pandas.core.frame.DataFrame'>\n",
      "RangeIndex: 500 entries, 0 to 499\n",
      "Data columns (total 8 columns):\n",
      " #   Column      Non-Null Count  Dtype \n",
      "---  ------      --------------  ----- \n",
      " 0   user_id     500 non-null    int64 \n",
      " 1   age         500 non-null    int64 \n",
      " 2   churn_date  38 non-null     object\n",
      " 3   city        500 non-null    object\n",
      " 4   first_name  500 non-null    object\n",
      " 5   last_name   500 non-null    object\n",
      " 6   reg_date    500 non-null    object\n",
      " 7   tariff      500 non-null    object\n",
      "dtypes: int64(2), object(6)\n",
      "memory usage: 31.4+ KB\n",
      "None\n"
     ]
    }
   ],
   "source": [
    "print('Общее число записей users:')\n",
    "print(users.shape[0])\n",
    "print()\n",
    "print(users.info())"
   ]
  },
  {
   "cell_type": "code",
   "execution_count": 15,
   "id": "605333cf",
   "metadata": {},
   "outputs": [
    {
     "name": "stdout",
     "output_type": "stream",
     "text": [
      "Уникальных пользователей:\n",
      "500\n",
      "Уникальных тарифов:\n",
      "['ultra' 'smart']\n"
     ]
    }
   ],
   "source": [
    "print('Уникальных пользователей:')\n",
    "print(users['user_id'].unique().shape[0])\n",
    "print('Уникальных тарифов:')\n",
    "print(users['tariff'].unique())"
   ]
  },
  {
   "cell_type": "markdown",
   "id": "5b216369",
   "metadata": {},
   "source": [
    "Из пятисот строк в столбце churn_date  много пропусков, их можно заполнить датой выгрузки. Уникальных user_id действительно 500, ошибок нет, тарифов также всего два. Необходимо перевести данные по дате в формат datetime"
   ]
  },
  {
   "cell_type": "markdown",
   "id": "199be4eb",
   "metadata": {},
   "source": [
    "#### Вывод \n",
    "\n",
    "Мы изучаем данные 500 пользователей сети Мегалайн за 2018 год: откуда они, сколько тратят на услуги оператора в месяц, сколько сообщений отправляют, сколько совершают звонков и сколько используют интернет. \n",
    "Нужно установить, какой из тарифов ultra или smart выгоднее для компании, проанализировав поведение клиентов.\n",
    "\n",
    "План работ:\n",
    "\n",
    "Чтобы провести анализ, данные сперва необходимо обработать: удалить нулевые значения, заполнить пропуски, сгруппировать таблицы по user_id, month, свести таблицы в одну.\n",
    "\n",
    "Далее для каждого пользователя нужно оценить:\n",
    "\n",
    "•\tколичество сделанных звонков и израсходованных минут разговора по месяцам;\n",
    "\n",
    "•\tколичество отправленных сообщений по месяцам;\n",
    "\n",
    "•\tобъем израсходованного интернет-трафика по месяцам;\n",
    "\n",
    "•\tпомесячную выручку с каждого пользователя.\n",
    "\n",
    "После этого, для каждого тарифа следует описать потребности клиентов: сколько минут разговора, сколько сообщений и какой объём интернет-трафика необходим пользователям каждого тарифа в месяц. \n",
    "\n",
    "На заключительном этапе исследования проверим гипотезы:\n",
    "\n",
    "•\tсредняя выручка пользователей тарифов «Ультра» и «Смарт» различается;\n",
    "\n",
    "•\tсредняя выручка пользователей из Москвы отличается от выручки пользователей из других регионов"
   ]
  },
  {
   "cell_type": "markdown",
   "id": "467e0245",
   "metadata": {},
   "source": [
    "## Предобработка данных"
   ]
  },
  {
   "cell_type": "markdown",
   "id": "01ab348d",
   "metadata": {},
   "source": [
    "Каждый звонок округляется отдельно: даже если он длился всего 1 секунду, будет засчитан как 1 минута. Поэтому округлим значения в столбце duration до минуты и приведем к типу int. Данные следует сгруппировать по user_id и по отдельному стобцу month. Тип данных call_date следует преобразовать в datetime"
   ]
  },
  {
   "cell_type": "code",
   "execution_count": 16,
   "id": "d86f4e51",
   "metadata": {},
   "outputs": [
    {
     "data": {
      "text/html": [
       "<div>\n",
       "<style scoped>\n",
       "    .dataframe tbody tr th:only-of-type {\n",
       "        vertical-align: middle;\n",
       "    }\n",
       "\n",
       "    .dataframe tbody tr th {\n",
       "        vertical-align: top;\n",
       "    }\n",
       "\n",
       "    .dataframe thead th {\n",
       "        text-align: right;\n",
       "    }\n",
       "</style>\n",
       "<table border=\"1\" class=\"dataframe\">\n",
       "  <thead>\n",
       "    <tr style=\"text-align: right;\">\n",
       "      <th></th>\n",
       "      <th>id</th>\n",
       "      <th>call_date</th>\n",
       "      <th>duration</th>\n",
       "      <th>user_id</th>\n",
       "    </tr>\n",
       "  </thead>\n",
       "  <tbody>\n",
       "    <tr>\n",
       "      <th>0</th>\n",
       "      <td>1000_0</td>\n",
       "      <td>2018-07-25</td>\n",
       "      <td>0.00</td>\n",
       "      <td>1000</td>\n",
       "    </tr>\n",
       "    <tr>\n",
       "      <th>1</th>\n",
       "      <td>1000_1</td>\n",
       "      <td>2018-08-17</td>\n",
       "      <td>0.00</td>\n",
       "      <td>1000</td>\n",
       "    </tr>\n",
       "    <tr>\n",
       "      <th>2</th>\n",
       "      <td>1000_2</td>\n",
       "      <td>2018-06-11</td>\n",
       "      <td>2.85</td>\n",
       "      <td>1000</td>\n",
       "    </tr>\n",
       "    <tr>\n",
       "      <th>3</th>\n",
       "      <td>1000_3</td>\n",
       "      <td>2018-09-21</td>\n",
       "      <td>13.80</td>\n",
       "      <td>1000</td>\n",
       "    </tr>\n",
       "    <tr>\n",
       "      <th>4</th>\n",
       "      <td>1000_4</td>\n",
       "      <td>2018-12-15</td>\n",
       "      <td>5.18</td>\n",
       "      <td>1000</td>\n",
       "    </tr>\n",
       "  </tbody>\n",
       "</table>\n",
       "</div>"
      ],
      "text/plain": [
       "       id   call_date  duration  user_id\n",
       "0  1000_0  2018-07-25      0.00     1000\n",
       "1  1000_1  2018-08-17      0.00     1000\n",
       "2  1000_2  2018-06-11      2.85     1000\n",
       "3  1000_3  2018-09-21     13.80     1000\n",
       "4  1000_4  2018-12-15      5.18     1000"
      ]
     },
     "metadata": {},
     "output_type": "display_data"
    }
   ],
   "source": [
    "display(calls.head(5))"
   ]
  },
  {
   "cell_type": "code",
   "execution_count": 17,
   "id": "2da63444",
   "metadata": {},
   "outputs": [],
   "source": [
    "#Фунцкция, округляющая значения до минут\n",
    "def in_min(row):\n",
    "    return math.ceil(row['duration'])\n",
    "\n",
    "#Применяем функцию, преобразуем столбец in_min к типу int\n",
    "calls['duration'] = calls.apply(in_min, axis = 1).astype(int)"
   ]
  },
  {
   "cell_type": "code",
   "execution_count": 18,
   "id": "d78d1973",
   "metadata": {},
   "outputs": [
    {
     "data": {
      "text/html": [
       "<div>\n",
       "<style scoped>\n",
       "    .dataframe tbody tr th:only-of-type {\n",
       "        vertical-align: middle;\n",
       "    }\n",
       "\n",
       "    .dataframe tbody tr th {\n",
       "        vertical-align: top;\n",
       "    }\n",
       "\n",
       "    .dataframe thead th {\n",
       "        text-align: right;\n",
       "    }\n",
       "</style>\n",
       "<table border=\"1\" class=\"dataframe\">\n",
       "  <thead>\n",
       "    <tr style=\"text-align: right;\">\n",
       "      <th></th>\n",
       "      <th>id</th>\n",
       "      <th>call_date</th>\n",
       "      <th>duration</th>\n",
       "      <th>user_id</th>\n",
       "    </tr>\n",
       "  </thead>\n",
       "  <tbody>\n",
       "    <tr>\n",
       "      <th>0</th>\n",
       "      <td>1000_0</td>\n",
       "      <td>2018-07-25</td>\n",
       "      <td>0</td>\n",
       "      <td>1000</td>\n",
       "    </tr>\n",
       "    <tr>\n",
       "      <th>1</th>\n",
       "      <td>1000_1</td>\n",
       "      <td>2018-08-17</td>\n",
       "      <td>0</td>\n",
       "      <td>1000</td>\n",
       "    </tr>\n",
       "    <tr>\n",
       "      <th>2</th>\n",
       "      <td>1000_2</td>\n",
       "      <td>2018-06-11</td>\n",
       "      <td>3</td>\n",
       "      <td>1000</td>\n",
       "    </tr>\n",
       "  </tbody>\n",
       "</table>\n",
       "</div>"
      ],
      "text/plain": [
       "       id   call_date  duration  user_id\n",
       "0  1000_0  2018-07-25         0     1000\n",
       "1  1000_1  2018-08-17         0     1000\n",
       "2  1000_2  2018-06-11         3     1000"
      ]
     },
     "metadata": {},
     "output_type": "display_data"
    },
    {
     "name": "stdout",
     "output_type": "stream",
     "text": [
      "Всего записей:\n"
     ]
    },
    {
     "data": {
      "text/plain": [
       "202607"
      ]
     },
     "metadata": {},
     "output_type": "display_data"
    }
   ],
   "source": [
    "display(calls.head(3))\n",
    "print('Всего записей:')\n",
    "display(calls.shape[0])"
   ]
  },
  {
   "cell_type": "code",
   "execution_count": 19,
   "id": "704bfd23",
   "metadata": {},
   "outputs": [
    {
     "data": {
      "text/html": [
       "<div>\n",
       "<style scoped>\n",
       "    .dataframe tbody tr th:only-of-type {\n",
       "        vertical-align: middle;\n",
       "    }\n",
       "\n",
       "    .dataframe tbody tr th {\n",
       "        vertical-align: top;\n",
       "    }\n",
       "\n",
       "    .dataframe thead th {\n",
       "        text-align: right;\n",
       "    }\n",
       "</style>\n",
       "<table border=\"1\" class=\"dataframe\">\n",
       "  <thead>\n",
       "    <tr style=\"text-align: right;\">\n",
       "      <th></th>\n",
       "      <th>id</th>\n",
       "      <th>call_date</th>\n",
       "      <th>duration</th>\n",
       "      <th>user_id</th>\n",
       "      <th>month</th>\n",
       "    </tr>\n",
       "  </thead>\n",
       "  <tbody>\n",
       "    <tr>\n",
       "      <th>0</th>\n",
       "      <td>1000_0</td>\n",
       "      <td>2018-07-25</td>\n",
       "      <td>0</td>\n",
       "      <td>1000</td>\n",
       "      <td>7</td>\n",
       "    </tr>\n",
       "    <tr>\n",
       "      <th>1</th>\n",
       "      <td>1000_1</td>\n",
       "      <td>2018-08-17</td>\n",
       "      <td>0</td>\n",
       "      <td>1000</td>\n",
       "      <td>8</td>\n",
       "    </tr>\n",
       "    <tr>\n",
       "      <th>2</th>\n",
       "      <td>1000_2</td>\n",
       "      <td>2018-06-11</td>\n",
       "      <td>3</td>\n",
       "      <td>1000</td>\n",
       "      <td>6</td>\n",
       "    </tr>\n",
       "  </tbody>\n",
       "</table>\n",
       "</div>"
      ],
      "text/plain": [
       "       id  call_date  duration  user_id  month\n",
       "0  1000_0 2018-07-25         0     1000      7\n",
       "1  1000_1 2018-08-17         0     1000      8\n",
       "2  1000_2 2018-06-11         3     1000      6"
      ]
     },
     "metadata": {},
     "output_type": "display_data"
    }
   ],
   "source": [
    "# Преобразуем формат object в datetime\n",
    "calls['call_date'] = pd.to_datetime(calls['call_date'], format = '%Y-%m-%d')\n",
    "#Добавляем столбец с месяцем \n",
    "calls['month'] = calls['call_date'].dt.month\n",
    "display(calls.head(3))"
   ]
  },
  {
   "cell_type": "code",
   "execution_count": 20,
   "id": "1956d96c",
   "metadata": {},
   "outputs": [
    {
     "data": {
      "text/html": [
       "<div>\n",
       "<style scoped>\n",
       "    .dataframe tbody tr th:only-of-type {\n",
       "        vertical-align: middle;\n",
       "    }\n",
       "\n",
       "    .dataframe tbody tr th {\n",
       "        vertical-align: top;\n",
       "    }\n",
       "\n",
       "    .dataframe thead th {\n",
       "        text-align: right;\n",
       "    }\n",
       "</style>\n",
       "<table border=\"1\" class=\"dataframe\">\n",
       "  <thead>\n",
       "    <tr style=\"text-align: right;\">\n",
       "      <th></th>\n",
       "      <th></th>\n",
       "      <th>duration</th>\n",
       "    </tr>\n",
       "    <tr>\n",
       "      <th>user_id</th>\n",
       "      <th>month</th>\n",
       "      <th></th>\n",
       "    </tr>\n",
       "  </thead>\n",
       "  <tbody>\n",
       "    <tr>\n",
       "      <th rowspan=\"5\" valign=\"top\">1000</th>\n",
       "      <th>5</th>\n",
       "      <td>159</td>\n",
       "    </tr>\n",
       "    <tr>\n",
       "      <th>6</th>\n",
       "      <td>172</td>\n",
       "    </tr>\n",
       "    <tr>\n",
       "      <th>7</th>\n",
       "      <td>340</td>\n",
       "    </tr>\n",
       "    <tr>\n",
       "      <th>8</th>\n",
       "      <td>408</td>\n",
       "    </tr>\n",
       "    <tr>\n",
       "      <th>9</th>\n",
       "      <td>466</td>\n",
       "    </tr>\n",
       "    <tr>\n",
       "      <th>...</th>\n",
       "      <th>...</th>\n",
       "      <td>...</td>\n",
       "    </tr>\n",
       "    <tr>\n",
       "      <th>1498</th>\n",
       "      <th>10</th>\n",
       "      <td>247</td>\n",
       "    </tr>\n",
       "    <tr>\n",
       "      <th rowspan=\"4\" valign=\"top\">1499</th>\n",
       "      <th>9</th>\n",
       "      <td>70</td>\n",
       "    </tr>\n",
       "    <tr>\n",
       "      <th>10</th>\n",
       "      <td>449</td>\n",
       "    </tr>\n",
       "    <tr>\n",
       "      <th>11</th>\n",
       "      <td>612</td>\n",
       "    </tr>\n",
       "    <tr>\n",
       "      <th>12</th>\n",
       "      <td>492</td>\n",
       "    </tr>\n",
       "  </tbody>\n",
       "</table>\n",
       "<p>3174 rows × 1 columns</p>\n",
       "</div>"
      ],
      "text/plain": [
       "               duration\n",
       "user_id month          \n",
       "1000    5           159\n",
       "        6           172\n",
       "        7           340\n",
       "        8           408\n",
       "        9           466\n",
       "...                 ...\n",
       "1498    10          247\n",
       "1499    9            70\n",
       "        10          449\n",
       "        11          612\n",
       "        12          492\n",
       "\n",
       "[3174 rows x 1 columns]"
      ]
     },
     "execution_count": 20,
     "metadata": {},
     "output_type": "execute_result"
    }
   ],
   "source": [
    "#Сгруппируем данные по user_id, month, чтобы посчитать количество минут на каждого пользователя\n",
    "calls_piv = calls.pivot_table(index = ['user_id','month'], values = ['duration'], aggfunc = 'sum')\n",
    "#calls_piv = calls_piv.reset_index()\n",
    "calls_piv"
   ]
  },
  {
   "cell_type": "markdown",
   "id": "255e7778",
   "metadata": {},
   "source": [
    "Для веб-трафика отдельные сессии не считаются. Вместо этого общая сумма за месяц округляется в бо́льшую сторону. Поэтому данные сперва следует сгруппировать по user_id и по отдельному стобцу month, а потом округлить до Гб столбец mb_used в целых числах. Данные с нулевым трафиком, вероятно, означают, что пользователь не пользовался интернетом.\n",
    "Тип данных session_date следует преобразовать в datetime"
   ]
  },
  {
   "cell_type": "code",
   "execution_count": 21,
   "id": "467aed80",
   "metadata": {},
   "outputs": [
    {
     "data": {
      "text/html": [
       "<div>\n",
       "<style scoped>\n",
       "    .dataframe tbody tr th:only-of-type {\n",
       "        vertical-align: middle;\n",
       "    }\n",
       "\n",
       "    .dataframe tbody tr th {\n",
       "        vertical-align: top;\n",
       "    }\n",
       "\n",
       "    .dataframe thead th {\n",
       "        text-align: right;\n",
       "    }\n",
       "</style>\n",
       "<table border=\"1\" class=\"dataframe\">\n",
       "  <thead>\n",
       "    <tr style=\"text-align: right;\">\n",
       "      <th></th>\n",
       "      <th>Unnamed: 0</th>\n",
       "      <th>id</th>\n",
       "      <th>mb_used</th>\n",
       "      <th>session_date</th>\n",
       "      <th>user_id</th>\n",
       "    </tr>\n",
       "  </thead>\n",
       "  <tbody>\n",
       "    <tr>\n",
       "      <th>0</th>\n",
       "      <td>0</td>\n",
       "      <td>1000_0</td>\n",
       "      <td>112.95</td>\n",
       "      <td>2018-11-25</td>\n",
       "      <td>1000</td>\n",
       "    </tr>\n",
       "    <tr>\n",
       "      <th>1</th>\n",
       "      <td>1</td>\n",
       "      <td>1000_1</td>\n",
       "      <td>1052.81</td>\n",
       "      <td>2018-09-07</td>\n",
       "      <td>1000</td>\n",
       "    </tr>\n",
       "    <tr>\n",
       "      <th>2</th>\n",
       "      <td>2</td>\n",
       "      <td>1000_2</td>\n",
       "      <td>1197.26</td>\n",
       "      <td>2018-06-25</td>\n",
       "      <td>1000</td>\n",
       "    </tr>\n",
       "    <tr>\n",
       "      <th>3</th>\n",
       "      <td>3</td>\n",
       "      <td>1000_3</td>\n",
       "      <td>550.27</td>\n",
       "      <td>2018-08-22</td>\n",
       "      <td>1000</td>\n",
       "    </tr>\n",
       "    <tr>\n",
       "      <th>4</th>\n",
       "      <td>4</td>\n",
       "      <td>1000_4</td>\n",
       "      <td>302.56</td>\n",
       "      <td>2018-09-24</td>\n",
       "      <td>1000</td>\n",
       "    </tr>\n",
       "  </tbody>\n",
       "</table>\n",
       "</div>"
      ],
      "text/plain": [
       "   Unnamed: 0      id  mb_used session_date  user_id\n",
       "0           0  1000_0   112.95   2018-11-25     1000\n",
       "1           1  1000_1  1052.81   2018-09-07     1000\n",
       "2           2  1000_2  1197.26   2018-06-25     1000\n",
       "3           3  1000_3   550.27   2018-08-22     1000\n",
       "4           4  1000_4   302.56   2018-09-24     1000"
      ]
     },
     "metadata": {},
     "output_type": "display_data"
    }
   ],
   "source": [
    "display(internet.head(5))"
   ]
  },
  {
   "cell_type": "code",
   "execution_count": 22,
   "id": "dafe925a",
   "metadata": {},
   "outputs": [
    {
     "data": {
      "text/html": [
       "<div>\n",
       "<style scoped>\n",
       "    .dataframe tbody tr th:only-of-type {\n",
       "        vertical-align: middle;\n",
       "    }\n",
       "\n",
       "    .dataframe tbody tr th {\n",
       "        vertical-align: top;\n",
       "    }\n",
       "\n",
       "    .dataframe thead th {\n",
       "        text-align: right;\n",
       "    }\n",
       "</style>\n",
       "<table border=\"1\" class=\"dataframe\">\n",
       "  <thead>\n",
       "    <tr style=\"text-align: right;\">\n",
       "      <th></th>\n",
       "      <th>Unnamed: 0</th>\n",
       "      <th>id</th>\n",
       "      <th>mb_used</th>\n",
       "      <th>session_date</th>\n",
       "      <th>user_id</th>\n",
       "      <th>month</th>\n",
       "    </tr>\n",
       "  </thead>\n",
       "  <tbody>\n",
       "    <tr>\n",
       "      <th>0</th>\n",
       "      <td>0</td>\n",
       "      <td>1000_0</td>\n",
       "      <td>112.95</td>\n",
       "      <td>2018-11-25</td>\n",
       "      <td>1000</td>\n",
       "      <td>11</td>\n",
       "    </tr>\n",
       "    <tr>\n",
       "      <th>1</th>\n",
       "      <td>1</td>\n",
       "      <td>1000_1</td>\n",
       "      <td>1052.81</td>\n",
       "      <td>2018-09-07</td>\n",
       "      <td>1000</td>\n",
       "      <td>9</td>\n",
       "    </tr>\n",
       "    <tr>\n",
       "      <th>2</th>\n",
       "      <td>2</td>\n",
       "      <td>1000_2</td>\n",
       "      <td>1197.26</td>\n",
       "      <td>2018-06-25</td>\n",
       "      <td>1000</td>\n",
       "      <td>6</td>\n",
       "    </tr>\n",
       "    <tr>\n",
       "      <th>3</th>\n",
       "      <td>3</td>\n",
       "      <td>1000_3</td>\n",
       "      <td>550.27</td>\n",
       "      <td>2018-08-22</td>\n",
       "      <td>1000</td>\n",
       "      <td>8</td>\n",
       "    </tr>\n",
       "    <tr>\n",
       "      <th>4</th>\n",
       "      <td>4</td>\n",
       "      <td>1000_4</td>\n",
       "      <td>302.56</td>\n",
       "      <td>2018-09-24</td>\n",
       "      <td>1000</td>\n",
       "      <td>9</td>\n",
       "    </tr>\n",
       "    <tr>\n",
       "      <th>...</th>\n",
       "      <td>...</td>\n",
       "      <td>...</td>\n",
       "      <td>...</td>\n",
       "      <td>...</td>\n",
       "      <td>...</td>\n",
       "      <td>...</td>\n",
       "    </tr>\n",
       "    <tr>\n",
       "      <th>149391</th>\n",
       "      <td>149391</td>\n",
       "      <td>1499_152</td>\n",
       "      <td>318.90</td>\n",
       "      <td>2018-10-03</td>\n",
       "      <td>1499</td>\n",
       "      <td>10</td>\n",
       "    </tr>\n",
       "    <tr>\n",
       "      <th>149392</th>\n",
       "      <td>149392</td>\n",
       "      <td>1499_153</td>\n",
       "      <td>490.13</td>\n",
       "      <td>2018-12-14</td>\n",
       "      <td>1499</td>\n",
       "      <td>12</td>\n",
       "    </tr>\n",
       "    <tr>\n",
       "      <th>149393</th>\n",
       "      <td>149393</td>\n",
       "      <td>1499_154</td>\n",
       "      <td>0.00</td>\n",
       "      <td>2018-10-27</td>\n",
       "      <td>1499</td>\n",
       "      <td>10</td>\n",
       "    </tr>\n",
       "    <tr>\n",
       "      <th>149394</th>\n",
       "      <td>149394</td>\n",
       "      <td>1499_155</td>\n",
       "      <td>1246.32</td>\n",
       "      <td>2018-11-26</td>\n",
       "      <td>1499</td>\n",
       "      <td>11</td>\n",
       "    </tr>\n",
       "    <tr>\n",
       "      <th>149395</th>\n",
       "      <td>149395</td>\n",
       "      <td>1499_156</td>\n",
       "      <td>544.37</td>\n",
       "      <td>2018-10-26</td>\n",
       "      <td>1499</td>\n",
       "      <td>10</td>\n",
       "    </tr>\n",
       "  </tbody>\n",
       "</table>\n",
       "<p>149396 rows × 6 columns</p>\n",
       "</div>"
      ],
      "text/plain": [
       "        Unnamed: 0        id  mb_used session_date  user_id  month\n",
       "0                0    1000_0   112.95   2018-11-25     1000     11\n",
       "1                1    1000_1  1052.81   2018-09-07     1000      9\n",
       "2                2    1000_2  1197.26   2018-06-25     1000      6\n",
       "3                3    1000_3   550.27   2018-08-22     1000      8\n",
       "4                4    1000_4   302.56   2018-09-24     1000      9\n",
       "...            ...       ...      ...          ...      ...    ...\n",
       "149391      149391  1499_152   318.90   2018-10-03     1499     10\n",
       "149392      149392  1499_153   490.13   2018-12-14     1499     12\n",
       "149393      149393  1499_154     0.00   2018-10-27     1499     10\n",
       "149394      149394  1499_155  1246.32   2018-11-26     1499     11\n",
       "149395      149395  1499_156   544.37   2018-10-26     1499     10\n",
       "\n",
       "[149396 rows x 6 columns]"
      ]
     },
     "execution_count": 22,
     "metadata": {},
     "output_type": "execute_result"
    }
   ],
   "source": [
    "# Преобразуем формат object в datetime\n",
    "internet['session_date'] = pd.to_datetime(internet['session_date'], format = '%Y-%m-%d')\n",
    "#Добавляем столбец с месяцем \n",
    "internet['month'] = internet['session_date'].dt.month\n",
    "internet"
   ]
  },
  {
   "cell_type": "code",
   "execution_count": 23,
   "id": "83dc9c32",
   "metadata": {},
   "outputs": [
    {
     "data": {
      "text/html": [
       "<div>\n",
       "<style scoped>\n",
       "    .dataframe tbody tr th:only-of-type {\n",
       "        vertical-align: middle;\n",
       "    }\n",
       "\n",
       "    .dataframe tbody tr th {\n",
       "        vertical-align: top;\n",
       "    }\n",
       "\n",
       "    .dataframe thead th {\n",
       "        text-align: right;\n",
       "    }\n",
       "</style>\n",
       "<table border=\"1\" class=\"dataframe\">\n",
       "  <thead>\n",
       "    <tr style=\"text-align: right;\">\n",
       "      <th></th>\n",
       "      <th></th>\n",
       "      <th>mb_used</th>\n",
       "    </tr>\n",
       "    <tr>\n",
       "      <th>user_id</th>\n",
       "      <th>month</th>\n",
       "      <th></th>\n",
       "    </tr>\n",
       "  </thead>\n",
       "  <tbody>\n",
       "    <tr>\n",
       "      <th rowspan=\"5\" valign=\"top\">1000</th>\n",
       "      <th>5</th>\n",
       "      <td>2253.49</td>\n",
       "    </tr>\n",
       "    <tr>\n",
       "      <th>6</th>\n",
       "      <td>23233.77</td>\n",
       "    </tr>\n",
       "    <tr>\n",
       "      <th>7</th>\n",
       "      <td>14003.64</td>\n",
       "    </tr>\n",
       "    <tr>\n",
       "      <th>8</th>\n",
       "      <td>14055.93</td>\n",
       "    </tr>\n",
       "    <tr>\n",
       "      <th>9</th>\n",
       "      <td>14568.91</td>\n",
       "    </tr>\n",
       "    <tr>\n",
       "      <th>...</th>\n",
       "      <th>...</th>\n",
       "      <td>...</td>\n",
       "    </tr>\n",
       "    <tr>\n",
       "      <th>1498</th>\n",
       "      <th>10</th>\n",
       "      <td>20579.36</td>\n",
       "    </tr>\n",
       "    <tr>\n",
       "      <th rowspan=\"4\" valign=\"top\">1499</th>\n",
       "      <th>9</th>\n",
       "      <td>1845.75</td>\n",
       "    </tr>\n",
       "    <tr>\n",
       "      <th>10</th>\n",
       "      <td>17788.51</td>\n",
       "    </tr>\n",
       "    <tr>\n",
       "      <th>11</th>\n",
       "      <td>17963.31</td>\n",
       "    </tr>\n",
       "    <tr>\n",
       "      <th>12</th>\n",
       "      <td>13055.58</td>\n",
       "    </tr>\n",
       "  </tbody>\n",
       "</table>\n",
       "<p>3203 rows × 1 columns</p>\n",
       "</div>"
      ],
      "text/plain": [
       "                mb_used\n",
       "user_id month          \n",
       "1000    5       2253.49\n",
       "        6      23233.77\n",
       "        7      14003.64\n",
       "        8      14055.93\n",
       "        9      14568.91\n",
       "...                 ...\n",
       "1498    10     20579.36\n",
       "1499    9       1845.75\n",
       "        10     17788.51\n",
       "        11     17963.31\n",
       "        12     13055.58\n",
       "\n",
       "[3203 rows x 1 columns]"
      ]
     },
     "execution_count": 23,
     "metadata": {},
     "output_type": "execute_result"
    }
   ],
   "source": [
    "#Сгруппируем данные по user_id, month, чтобы посчитать количество мегабайт на каждого пользователя\n",
    "internet_piv = internet.pivot_table(index = ['user_id', 'month'], values = ['mb_used'], aggfunc = 'sum')\n",
    "internet_piv"
   ]
  },
  {
   "cell_type": "code",
   "execution_count": 24,
   "id": "ce4f58c0",
   "metadata": {},
   "outputs": [
    {
     "data": {
      "text/html": [
       "<div>\n",
       "<style scoped>\n",
       "    .dataframe tbody tr th:only-of-type {\n",
       "        vertical-align: middle;\n",
       "    }\n",
       "\n",
       "    .dataframe tbody tr th {\n",
       "        vertical-align: top;\n",
       "    }\n",
       "\n",
       "    .dataframe thead th {\n",
       "        text-align: right;\n",
       "    }\n",
       "</style>\n",
       "<table border=\"1\" class=\"dataframe\">\n",
       "  <thead>\n",
       "    <tr style=\"text-align: right;\">\n",
       "      <th></th>\n",
       "      <th></th>\n",
       "      <th>gb_used</th>\n",
       "    </tr>\n",
       "    <tr>\n",
       "      <th>user_id</th>\n",
       "      <th>month</th>\n",
       "      <th></th>\n",
       "    </tr>\n",
       "  </thead>\n",
       "  <tbody>\n",
       "    <tr>\n",
       "      <th rowspan=\"5\" valign=\"top\">1000</th>\n",
       "      <th>5</th>\n",
       "      <td>3</td>\n",
       "    </tr>\n",
       "    <tr>\n",
       "      <th>6</th>\n",
       "      <td>23</td>\n",
       "    </tr>\n",
       "    <tr>\n",
       "      <th>7</th>\n",
       "      <td>14</td>\n",
       "    </tr>\n",
       "    <tr>\n",
       "      <th>8</th>\n",
       "      <td>14</td>\n",
       "    </tr>\n",
       "    <tr>\n",
       "      <th>9</th>\n",
       "      <td>15</td>\n",
       "    </tr>\n",
       "    <tr>\n",
       "      <th>...</th>\n",
       "      <th>...</th>\n",
       "      <td>...</td>\n",
       "    </tr>\n",
       "    <tr>\n",
       "      <th>1498</th>\n",
       "      <th>10</th>\n",
       "      <td>21</td>\n",
       "    </tr>\n",
       "    <tr>\n",
       "      <th rowspan=\"4\" valign=\"top\">1499</th>\n",
       "      <th>9</th>\n",
       "      <td>2</td>\n",
       "    </tr>\n",
       "    <tr>\n",
       "      <th>10</th>\n",
       "      <td>18</td>\n",
       "    </tr>\n",
       "    <tr>\n",
       "      <th>11</th>\n",
       "      <td>18</td>\n",
       "    </tr>\n",
       "    <tr>\n",
       "      <th>12</th>\n",
       "      <td>13</td>\n",
       "    </tr>\n",
       "  </tbody>\n",
       "</table>\n",
       "<p>3203 rows × 1 columns</p>\n",
       "</div>"
      ],
      "text/plain": [
       "               gb_used\n",
       "user_id month         \n",
       "1000    5            3\n",
       "        6           23\n",
       "        7           14\n",
       "        8           14\n",
       "        9           15\n",
       "...                ...\n",
       "1498    10          21\n",
       "1499    9            2\n",
       "        10          18\n",
       "        11          18\n",
       "        12          13\n",
       "\n",
       "[3203 rows x 1 columns]"
      ]
     },
     "execution_count": 24,
     "metadata": {},
     "output_type": "execute_result"
    }
   ],
   "source": [
    "#Фунцкция, округляющая значения вверх до Гб\n",
    "def in_Gb(row):\n",
    "    row['mb_used'] = row['mb_used']/1024\n",
    "    return math.ceil(row['mb_used'])\n",
    "     \n",
    "#Применяем функцию, преобразуем столбец mb_used в gb_used\n",
    "internet_piv['mb_used'] = internet_piv.apply(in_Gb, axis = 1)\n",
    "internet_piv.columns = ['gb_used']\n",
    "internet_piv"
   ]
  },
  {
   "cell_type": "markdown",
   "id": "5543326f",
   "metadata": {},
   "source": [
    "Сгруппируем данные messages по user_id и по отдельному стобцу month.\n",
    "Тип данных session_date следует преобразовать в datetime"
   ]
  },
  {
   "cell_type": "code",
   "execution_count": 25,
   "id": "5d430aee",
   "metadata": {},
   "outputs": [
    {
     "data": {
      "text/html": [
       "<div>\n",
       "<style scoped>\n",
       "    .dataframe tbody tr th:only-of-type {\n",
       "        vertical-align: middle;\n",
       "    }\n",
       "\n",
       "    .dataframe tbody tr th {\n",
       "        vertical-align: top;\n",
       "    }\n",
       "\n",
       "    .dataframe thead th {\n",
       "        text-align: right;\n",
       "    }\n",
       "</style>\n",
       "<table border=\"1\" class=\"dataframe\">\n",
       "  <thead>\n",
       "    <tr style=\"text-align: right;\">\n",
       "      <th></th>\n",
       "      <th>id</th>\n",
       "      <th>message_date</th>\n",
       "      <th>user_id</th>\n",
       "      <th>month</th>\n",
       "    </tr>\n",
       "  </thead>\n",
       "  <tbody>\n",
       "    <tr>\n",
       "      <th>0</th>\n",
       "      <td>1000_0</td>\n",
       "      <td>2018-06-27</td>\n",
       "      <td>1000</td>\n",
       "      <td>6</td>\n",
       "    </tr>\n",
       "    <tr>\n",
       "      <th>1</th>\n",
       "      <td>1000_1</td>\n",
       "      <td>2018-10-08</td>\n",
       "      <td>1000</td>\n",
       "      <td>10</td>\n",
       "    </tr>\n",
       "    <tr>\n",
       "      <th>2</th>\n",
       "      <td>1000_2</td>\n",
       "      <td>2018-08-04</td>\n",
       "      <td>1000</td>\n",
       "      <td>8</td>\n",
       "    </tr>\n",
       "    <tr>\n",
       "      <th>3</th>\n",
       "      <td>1000_3</td>\n",
       "      <td>2018-06-16</td>\n",
       "      <td>1000</td>\n",
       "      <td>6</td>\n",
       "    </tr>\n",
       "    <tr>\n",
       "      <th>4</th>\n",
       "      <td>1000_4</td>\n",
       "      <td>2018-12-05</td>\n",
       "      <td>1000</td>\n",
       "      <td>12</td>\n",
       "    </tr>\n",
       "    <tr>\n",
       "      <th>...</th>\n",
       "      <td>...</td>\n",
       "      <td>...</td>\n",
       "      <td>...</td>\n",
       "      <td>...</td>\n",
       "    </tr>\n",
       "    <tr>\n",
       "      <th>123031</th>\n",
       "      <td>1499_179</td>\n",
       "      <td>2018-12-12</td>\n",
       "      <td>1499</td>\n",
       "      <td>12</td>\n",
       "    </tr>\n",
       "    <tr>\n",
       "      <th>123032</th>\n",
       "      <td>1499_180</td>\n",
       "      <td>2018-09-28</td>\n",
       "      <td>1499</td>\n",
       "      <td>9</td>\n",
       "    </tr>\n",
       "    <tr>\n",
       "      <th>123033</th>\n",
       "      <td>1499_181</td>\n",
       "      <td>2018-09-27</td>\n",
       "      <td>1499</td>\n",
       "      <td>9</td>\n",
       "    </tr>\n",
       "    <tr>\n",
       "      <th>123034</th>\n",
       "      <td>1499_182</td>\n",
       "      <td>2018-11-15</td>\n",
       "      <td>1499</td>\n",
       "      <td>11</td>\n",
       "    </tr>\n",
       "    <tr>\n",
       "      <th>123035</th>\n",
       "      <td>1499_183</td>\n",
       "      <td>2018-11-16</td>\n",
       "      <td>1499</td>\n",
       "      <td>11</td>\n",
       "    </tr>\n",
       "  </tbody>\n",
       "</table>\n",
       "<p>123036 rows × 4 columns</p>\n",
       "</div>"
      ],
      "text/plain": [
       "              id message_date  user_id  month\n",
       "0         1000_0   2018-06-27     1000      6\n",
       "1         1000_1   2018-10-08     1000     10\n",
       "2         1000_2   2018-08-04     1000      8\n",
       "3         1000_3   2018-06-16     1000      6\n",
       "4         1000_4   2018-12-05     1000     12\n",
       "...          ...          ...      ...    ...\n",
       "123031  1499_179   2018-12-12     1499     12\n",
       "123032  1499_180   2018-09-28     1499      9\n",
       "123033  1499_181   2018-09-27     1499      9\n",
       "123034  1499_182   2018-11-15     1499     11\n",
       "123035  1499_183   2018-11-16     1499     11\n",
       "\n",
       "[123036 rows x 4 columns]"
      ]
     },
     "execution_count": 25,
     "metadata": {},
     "output_type": "execute_result"
    }
   ],
   "source": [
    "# Преобразуем формат object в datetime\n",
    "messages['message_date'] = pd.to_datetime(messages['message_date'], format = '%Y-%m-%d')\n",
    "#Добавляем столбец с месяцем \n",
    "messages['month'] = messages['message_date'].dt.month\n",
    "messages"
   ]
  },
  {
   "cell_type": "code",
   "execution_count": 26,
   "id": "0df482b7",
   "metadata": {},
   "outputs": [
    {
     "data": {
      "text/html": [
       "<div>\n",
       "<style scoped>\n",
       "    .dataframe tbody tr th:only-of-type {\n",
       "        vertical-align: middle;\n",
       "    }\n",
       "\n",
       "    .dataframe tbody tr th {\n",
       "        vertical-align: top;\n",
       "    }\n",
       "\n",
       "    .dataframe thead th {\n",
       "        text-align: right;\n",
       "    }\n",
       "</style>\n",
       "<table border=\"1\" class=\"dataframe\">\n",
       "  <thead>\n",
       "    <tr style=\"text-align: right;\">\n",
       "      <th></th>\n",
       "      <th></th>\n",
       "      <th>messages</th>\n",
       "    </tr>\n",
       "    <tr>\n",
       "      <th>user_id</th>\n",
       "      <th>month</th>\n",
       "      <th></th>\n",
       "    </tr>\n",
       "  </thead>\n",
       "  <tbody>\n",
       "    <tr>\n",
       "      <th rowspan=\"5\" valign=\"top\">1000</th>\n",
       "      <th>5</th>\n",
       "      <td>22</td>\n",
       "    </tr>\n",
       "    <tr>\n",
       "      <th>6</th>\n",
       "      <td>60</td>\n",
       "    </tr>\n",
       "    <tr>\n",
       "      <th>7</th>\n",
       "      <td>75</td>\n",
       "    </tr>\n",
       "    <tr>\n",
       "      <th>8</th>\n",
       "      <td>81</td>\n",
       "    </tr>\n",
       "    <tr>\n",
       "      <th>9</th>\n",
       "      <td>57</td>\n",
       "    </tr>\n",
       "    <tr>\n",
       "      <th>...</th>\n",
       "      <th>...</th>\n",
       "      <td>...</td>\n",
       "    </tr>\n",
       "    <tr>\n",
       "      <th>1498</th>\n",
       "      <th>10</th>\n",
       "      <td>42</td>\n",
       "    </tr>\n",
       "    <tr>\n",
       "      <th rowspan=\"4\" valign=\"top\">1499</th>\n",
       "      <th>9</th>\n",
       "      <td>11</td>\n",
       "    </tr>\n",
       "    <tr>\n",
       "      <th>10</th>\n",
       "      <td>48</td>\n",
       "    </tr>\n",
       "    <tr>\n",
       "      <th>11</th>\n",
       "      <td>59</td>\n",
       "    </tr>\n",
       "    <tr>\n",
       "      <th>12</th>\n",
       "      <td>66</td>\n",
       "    </tr>\n",
       "  </tbody>\n",
       "</table>\n",
       "<p>2717 rows × 1 columns</p>\n",
       "</div>"
      ],
      "text/plain": [
       "               messages\n",
       "user_id month          \n",
       "1000    5            22\n",
       "        6            60\n",
       "        7            75\n",
       "        8            81\n",
       "        9            57\n",
       "...                 ...\n",
       "1498    10           42\n",
       "1499    9            11\n",
       "        10           48\n",
       "        11           59\n",
       "        12           66\n",
       "\n",
       "[2717 rows x 1 columns]"
      ]
     },
     "execution_count": 26,
     "metadata": {},
     "output_type": "execute_result"
    }
   ],
   "source": [
    "#Сгруппируем данные по user_id, month, чтобы посчитать количество сообщений на каждого пользователя в месяц\n",
    "messages_piv = messages.pivot_table(index = ['user_id', 'month'], values = ['message_date'], aggfunc = 'count')\n",
    "#messages_piv = messages_piv.reset_index()\n",
    "messages_piv.columns = ['messages']\n",
    "messages_piv"
   ]
  },
  {
   "cell_type": "markdown",
   "id": "caf2edc0",
   "metadata": {},
   "source": [
    "#### Вывод\n",
    "Теперь у нас есть таблицы, сгруппированные по user_id с данными по сообщениям, продолжительности звонков и интернет-сессий в гб. В таблицах разное число строк, вероятно, пропущены данные для некоторых пользователей. Объединим таблицы."
   ]
  },
  {
   "cell_type": "markdown",
   "id": "dea0719a",
   "metadata": {},
   "source": [
    "### Расчёты и объединение таблиц"
   ]
  },
  {
   "cell_type": "code",
   "execution_count": 27,
   "id": "089cf963",
   "metadata": {},
   "outputs": [
    {
     "data": {
      "text/html": [
       "<div>\n",
       "<style scoped>\n",
       "    .dataframe tbody tr th:only-of-type {\n",
       "        vertical-align: middle;\n",
       "    }\n",
       "\n",
       "    .dataframe tbody tr th {\n",
       "        vertical-align: top;\n",
       "    }\n",
       "\n",
       "    .dataframe thead th {\n",
       "        text-align: right;\n",
       "    }\n",
       "</style>\n",
       "<table border=\"1\" class=\"dataframe\">\n",
       "  <thead>\n",
       "    <tr style=\"text-align: right;\">\n",
       "      <th></th>\n",
       "      <th></th>\n",
       "      <th>duration</th>\n",
       "      <th>gb_used</th>\n",
       "    </tr>\n",
       "    <tr>\n",
       "      <th>user_id</th>\n",
       "      <th>month</th>\n",
       "      <th></th>\n",
       "      <th></th>\n",
       "    </tr>\n",
       "  </thead>\n",
       "  <tbody>\n",
       "    <tr>\n",
       "      <th rowspan=\"5\" valign=\"top\">1000</th>\n",
       "      <th>5</th>\n",
       "      <td>159.0</td>\n",
       "      <td>3.0</td>\n",
       "    </tr>\n",
       "    <tr>\n",
       "      <th>6</th>\n",
       "      <td>172.0</td>\n",
       "      <td>23.0</td>\n",
       "    </tr>\n",
       "    <tr>\n",
       "      <th>7</th>\n",
       "      <td>340.0</td>\n",
       "      <td>14.0</td>\n",
       "    </tr>\n",
       "    <tr>\n",
       "      <th>8</th>\n",
       "      <td>408.0</td>\n",
       "      <td>14.0</td>\n",
       "    </tr>\n",
       "    <tr>\n",
       "      <th>9</th>\n",
       "      <td>466.0</td>\n",
       "      <td>15.0</td>\n",
       "    </tr>\n",
       "    <tr>\n",
       "      <th>...</th>\n",
       "      <th>...</th>\n",
       "      <td>...</td>\n",
       "      <td>...</td>\n",
       "    </tr>\n",
       "    <tr>\n",
       "      <th rowspan=\"5\" valign=\"top\">1489</th>\n",
       "      <th>8</th>\n",
       "      <td>NaN</td>\n",
       "      <td>11.0</td>\n",
       "    </tr>\n",
       "    <tr>\n",
       "      <th>9</th>\n",
       "      <td>NaN</td>\n",
       "      <td>17.0</td>\n",
       "    </tr>\n",
       "    <tr>\n",
       "      <th>10</th>\n",
       "      <td>NaN</td>\n",
       "      <td>20.0</td>\n",
       "    </tr>\n",
       "    <tr>\n",
       "      <th>11</th>\n",
       "      <td>NaN</td>\n",
       "      <td>18.0</td>\n",
       "    </tr>\n",
       "    <tr>\n",
       "      <th>12</th>\n",
       "      <td>NaN</td>\n",
       "      <td>17.0</td>\n",
       "    </tr>\n",
       "  </tbody>\n",
       "</table>\n",
       "<p>3214 rows × 2 columns</p>\n",
       "</div>"
      ],
      "text/plain": [
       "               duration  gb_used\n",
       "user_id month                   \n",
       "1000    5         159.0      3.0\n",
       "        6         172.0     23.0\n",
       "        7         340.0     14.0\n",
       "        8         408.0     14.0\n",
       "        9         466.0     15.0\n",
       "...                 ...      ...\n",
       "1489    8           NaN     11.0\n",
       "        9           NaN     17.0\n",
       "        10          NaN     20.0\n",
       "        11          NaN     18.0\n",
       "        12          NaN     17.0\n",
       "\n",
       "[3214 rows x 2 columns]"
      ]
     },
     "execution_count": 27,
     "metadata": {},
     "output_type": "execute_result"
    }
   ],
   "source": [
    "#Объединяем таблицы с данными по звонкам и интернет-сессиям\n",
    "calls_intr=calls_piv.merge(internet_piv, on=['user_id','month'], how='outer')\n",
    "calls_intr"
   ]
  },
  {
   "cell_type": "code",
   "execution_count": 28,
   "id": "b8f02a88",
   "metadata": {},
   "outputs": [
    {
     "data": {
      "text/html": [
       "<div>\n",
       "<style scoped>\n",
       "    .dataframe tbody tr th:only-of-type {\n",
       "        vertical-align: middle;\n",
       "    }\n",
       "\n",
       "    .dataframe tbody tr th {\n",
       "        vertical-align: top;\n",
       "    }\n",
       "\n",
       "    .dataframe thead th {\n",
       "        text-align: right;\n",
       "    }\n",
       "</style>\n",
       "<table border=\"1\" class=\"dataframe\">\n",
       "  <thead>\n",
       "    <tr style=\"text-align: right;\">\n",
       "      <th></th>\n",
       "      <th>user_id</th>\n",
       "      <th>month</th>\n",
       "      <th>duration</th>\n",
       "      <th>gb_used</th>\n",
       "      <th>messages</th>\n",
       "    </tr>\n",
       "  </thead>\n",
       "  <tbody>\n",
       "    <tr>\n",
       "      <th>0</th>\n",
       "      <td>1000</td>\n",
       "      <td>5</td>\n",
       "      <td>159.0</td>\n",
       "      <td>3.0</td>\n",
       "      <td>22.0</td>\n",
       "    </tr>\n",
       "    <tr>\n",
       "      <th>1</th>\n",
       "      <td>1000</td>\n",
       "      <td>6</td>\n",
       "      <td>172.0</td>\n",
       "      <td>23.0</td>\n",
       "      <td>60.0</td>\n",
       "    </tr>\n",
       "    <tr>\n",
       "      <th>2</th>\n",
       "      <td>1000</td>\n",
       "      <td>7</td>\n",
       "      <td>340.0</td>\n",
       "      <td>14.0</td>\n",
       "      <td>75.0</td>\n",
       "    </tr>\n",
       "    <tr>\n",
       "      <th>3</th>\n",
       "      <td>1000</td>\n",
       "      <td>8</td>\n",
       "      <td>408.0</td>\n",
       "      <td>14.0</td>\n",
       "      <td>81.0</td>\n",
       "    </tr>\n",
       "    <tr>\n",
       "      <th>4</th>\n",
       "      <td>1000</td>\n",
       "      <td>9</td>\n",
       "      <td>466.0</td>\n",
       "      <td>15.0</td>\n",
       "      <td>57.0</td>\n",
       "    </tr>\n",
       "    <tr>\n",
       "      <th>5</th>\n",
       "      <td>1000</td>\n",
       "      <td>10</td>\n",
       "      <td>350.0</td>\n",
       "      <td>15.0</td>\n",
       "      <td>73.0</td>\n",
       "    </tr>\n",
       "    <tr>\n",
       "      <th>6</th>\n",
       "      <td>1000</td>\n",
       "      <td>11</td>\n",
       "      <td>338.0</td>\n",
       "      <td>15.0</td>\n",
       "      <td>58.0</td>\n",
       "    </tr>\n",
       "    <tr>\n",
       "      <th>7</th>\n",
       "      <td>1000</td>\n",
       "      <td>12</td>\n",
       "      <td>333.0</td>\n",
       "      <td>10.0</td>\n",
       "      <td>70.0</td>\n",
       "    </tr>\n",
       "    <tr>\n",
       "      <th>8</th>\n",
       "      <td>1001</td>\n",
       "      <td>11</td>\n",
       "      <td>430.0</td>\n",
       "      <td>18.0</td>\n",
       "      <td>NaN</td>\n",
       "    </tr>\n",
       "    <tr>\n",
       "      <th>9</th>\n",
       "      <td>1001</td>\n",
       "      <td>12</td>\n",
       "      <td>414.0</td>\n",
       "      <td>14.0</td>\n",
       "      <td>NaN</td>\n",
       "    </tr>\n",
       "  </tbody>\n",
       "</table>\n",
       "</div>"
      ],
      "text/plain": [
       "   user_id  month  duration  gb_used  messages\n",
       "0     1000      5     159.0      3.0      22.0\n",
       "1     1000      6     172.0     23.0      60.0\n",
       "2     1000      7     340.0     14.0      75.0\n",
       "3     1000      8     408.0     14.0      81.0\n",
       "4     1000      9     466.0     15.0      57.0\n",
       "5     1000     10     350.0     15.0      73.0\n",
       "6     1000     11     338.0     15.0      58.0\n",
       "7     1000     12     333.0     10.0      70.0\n",
       "8     1001     11     430.0     18.0       NaN\n",
       "9     1001     12     414.0     14.0       NaN"
      ]
     },
     "execution_count": 28,
     "metadata": {},
     "output_type": "execute_result"
    }
   ],
   "source": [
    "#Объединяем предыдущую таблицу с таблицей по сообщениям\n",
    "calls_intr_mes=calls_intr.merge(messages_piv, on=['user_id','month'], how='outer')\n",
    "calls_intr_mes = calls_intr_mes.reset_index()\n",
    "calls_intr_mes.head(10)"
   ]
  },
  {
   "cell_type": "markdown",
   "id": "2e421c37",
   "metadata": {},
   "source": [
    "Переведем в таблице тарифов данные в гб."
   ]
  },
  {
   "cell_type": "code",
   "execution_count": 29,
   "id": "c96ae654",
   "metadata": {},
   "outputs": [
    {
     "data": {
      "text/html": [
       "<div>\n",
       "<style scoped>\n",
       "    .dataframe tbody tr th:only-of-type {\n",
       "        vertical-align: middle;\n",
       "    }\n",
       "\n",
       "    .dataframe tbody tr th {\n",
       "        vertical-align: top;\n",
       "    }\n",
       "\n",
       "    .dataframe thead th {\n",
       "        text-align: right;\n",
       "    }\n",
       "</style>\n",
       "<table border=\"1\" class=\"dataframe\">\n",
       "  <thead>\n",
       "    <tr style=\"text-align: right;\">\n",
       "      <th></th>\n",
       "      <th>messages_included</th>\n",
       "      <th>gb_per_month_included</th>\n",
       "      <th>minutes_included</th>\n",
       "      <th>rub_monthly_fee</th>\n",
       "      <th>rub_per_gb</th>\n",
       "      <th>rub_per_message</th>\n",
       "      <th>rub_per_minute</th>\n",
       "      <th>tariff_name</th>\n",
       "    </tr>\n",
       "  </thead>\n",
       "  <tbody>\n",
       "    <tr>\n",
       "      <th>0</th>\n",
       "      <td>50</td>\n",
       "      <td>15</td>\n",
       "      <td>500</td>\n",
       "      <td>550</td>\n",
       "      <td>200</td>\n",
       "      <td>3</td>\n",
       "      <td>3</td>\n",
       "      <td>smart</td>\n",
       "    </tr>\n",
       "    <tr>\n",
       "      <th>1</th>\n",
       "      <td>1000</td>\n",
       "      <td>30</td>\n",
       "      <td>3000</td>\n",
       "      <td>1950</td>\n",
       "      <td>150</td>\n",
       "      <td>1</td>\n",
       "      <td>1</td>\n",
       "      <td>ultra</td>\n",
       "    </tr>\n",
       "  </tbody>\n",
       "</table>\n",
       "</div>"
      ],
      "text/plain": [
       "   messages_included  gb_per_month_included  minutes_included  \\\n",
       "0                 50                     15               500   \n",
       "1               1000                     30              3000   \n",
       "\n",
       "   rub_monthly_fee  rub_per_gb  rub_per_message  rub_per_minute tariff_name  \n",
       "0              550         200                3               3       smart  \n",
       "1             1950         150                1               1       ultra  "
      ]
     },
     "execution_count": 29,
     "metadata": {},
     "output_type": "execute_result"
    }
   ],
   "source": [
    "tariffs['mb_per_month_included'] = tariffs['mb_per_month_included']/1024\n",
    "tariffs['mb_per_month_included'] = tariffs['mb_per_month_included'].astype(int)\n",
    "tariffs.columns = ['messages_included', 'gb_per_month_included', 'minutes_included',\n",
    "       'rub_monthly_fee', 'rub_per_gb', 'rub_per_message', 'rub_per_minute',\n",
    "       'tariff_name']\n",
    "tariffs"
   ]
  },
  {
   "cell_type": "markdown",
   "id": "e0778a80",
   "metadata": {},
   "source": [
    "Из пятисот строк в таблице users в столбце churn_date  много пропусков, их можно заполнить датой выгрузки и необходимо перевести данные по дате в формат datetime."
   ]
  },
  {
   "cell_type": "code",
   "execution_count": 30,
   "id": "c56f48c0",
   "metadata": {},
   "outputs": [
    {
     "data": {
      "text/html": [
       "<div>\n",
       "<style scoped>\n",
       "    .dataframe tbody tr th:only-of-type {\n",
       "        vertical-align: middle;\n",
       "    }\n",
       "\n",
       "    .dataframe tbody tr th {\n",
       "        vertical-align: top;\n",
       "    }\n",
       "\n",
       "    .dataframe thead th {\n",
       "        text-align: right;\n",
       "    }\n",
       "</style>\n",
       "<table border=\"1\" class=\"dataframe\">\n",
       "  <thead>\n",
       "    <tr style=\"text-align: right;\">\n",
       "      <th></th>\n",
       "      <th>user_id</th>\n",
       "      <th>age</th>\n",
       "      <th>churn_date</th>\n",
       "      <th>city</th>\n",
       "      <th>first_name</th>\n",
       "      <th>last_name</th>\n",
       "      <th>reg_date</th>\n",
       "      <th>tariff</th>\n",
       "    </tr>\n",
       "  </thead>\n",
       "  <tbody>\n",
       "    <tr>\n",
       "      <th>0</th>\n",
       "      <td>1000</td>\n",
       "      <td>52</td>\n",
       "      <td>NaN</td>\n",
       "      <td>Краснодар</td>\n",
       "      <td>Рафаил</td>\n",
       "      <td>Верещагин</td>\n",
       "      <td>2018-05-25</td>\n",
       "      <td>ultra</td>\n",
       "    </tr>\n",
       "    <tr>\n",
       "      <th>1</th>\n",
       "      <td>1001</td>\n",
       "      <td>41</td>\n",
       "      <td>NaN</td>\n",
       "      <td>Москва</td>\n",
       "      <td>Иван</td>\n",
       "      <td>Ежов</td>\n",
       "      <td>2018-11-01</td>\n",
       "      <td>smart</td>\n",
       "    </tr>\n",
       "    <tr>\n",
       "      <th>2</th>\n",
       "      <td>1002</td>\n",
       "      <td>59</td>\n",
       "      <td>NaN</td>\n",
       "      <td>Стерлитамак</td>\n",
       "      <td>Евгений</td>\n",
       "      <td>Абрамович</td>\n",
       "      <td>2018-06-17</td>\n",
       "      <td>smart</td>\n",
       "    </tr>\n",
       "    <tr>\n",
       "      <th>3</th>\n",
       "      <td>1003</td>\n",
       "      <td>23</td>\n",
       "      <td>NaN</td>\n",
       "      <td>Москва</td>\n",
       "      <td>Белла</td>\n",
       "      <td>Белякова</td>\n",
       "      <td>2018-08-17</td>\n",
       "      <td>ultra</td>\n",
       "    </tr>\n",
       "    <tr>\n",
       "      <th>4</th>\n",
       "      <td>1004</td>\n",
       "      <td>68</td>\n",
       "      <td>NaN</td>\n",
       "      <td>Новокузнецк</td>\n",
       "      <td>Татьяна</td>\n",
       "      <td>Авдеенко</td>\n",
       "      <td>2018-05-14</td>\n",
       "      <td>ultra</td>\n",
       "    </tr>\n",
       "  </tbody>\n",
       "</table>\n",
       "</div>"
      ],
      "text/plain": [
       "   user_id  age churn_date         city first_name  last_name    reg_date  \\\n",
       "0     1000   52        NaN    Краснодар     Рафаил  Верещагин  2018-05-25   \n",
       "1     1001   41        NaN       Москва       Иван       Ежов  2018-11-01   \n",
       "2     1002   59        NaN  Стерлитамак    Евгений  Абрамович  2018-06-17   \n",
       "3     1003   23        NaN       Москва      Белла   Белякова  2018-08-17   \n",
       "4     1004   68        NaN  Новокузнецк    Татьяна   Авдеенко  2018-05-14   \n",
       "\n",
       "  tariff  \n",
       "0  ultra  \n",
       "1  smart  \n",
       "2  smart  \n",
       "3  ultra  \n",
       "4  ultra  "
      ]
     },
     "execution_count": 30,
     "metadata": {},
     "output_type": "execute_result"
    }
   ],
   "source": [
    "users.head(5)"
   ]
  },
  {
   "cell_type": "markdown",
   "id": "2f94b4e4",
   "metadata": {},
   "source": [
    "Посмотрим, какова максимальная и минимальная дата, нет ли ошибок."
   ]
  },
  {
   "cell_type": "code",
   "execution_count": 31,
   "id": "dbc267e7",
   "metadata": {},
   "outputs": [
    {
     "name": "stdout",
     "output_type": "stream",
     "text": [
      "Максимальная дата:\n",
      "2018-12-31\n",
      "Минимальная дата:\n",
      "2018-01-01\n"
     ]
    }
   ],
   "source": [
    "print('Максимальная дата:')\n",
    "print(users['reg_date'].max())\n",
    "print('Минимальная дата:')\n",
    "print(users['reg_date'].min())"
   ]
  },
  {
   "cell_type": "markdown",
   "id": "e3bde983",
   "metadata": {},
   "source": [
    "Если минимальная дата подключения это уже 2018 год, то можно из максимальной даты вычесть минимальную. \n",
    "Заменим пропущенные данные в столбце churn_date на максимальную дату 2018-12-31, тк нас интересуют данные за 2018 год"
   ]
  },
  {
   "cell_type": "code",
   "execution_count": 32,
   "id": "4a929e1f",
   "metadata": {},
   "outputs": [
    {
     "data": {
      "text/html": [
       "<div>\n",
       "<style scoped>\n",
       "    .dataframe tbody tr th:only-of-type {\n",
       "        vertical-align: middle;\n",
       "    }\n",
       "\n",
       "    .dataframe tbody tr th {\n",
       "        vertical-align: top;\n",
       "    }\n",
       "\n",
       "    .dataframe thead th {\n",
       "        text-align: right;\n",
       "    }\n",
       "</style>\n",
       "<table border=\"1\" class=\"dataframe\">\n",
       "  <thead>\n",
       "    <tr style=\"text-align: right;\">\n",
       "      <th></th>\n",
       "      <th>user_id</th>\n",
       "      <th>age</th>\n",
       "      <th>churn_date</th>\n",
       "      <th>city</th>\n",
       "      <th>first_name</th>\n",
       "      <th>last_name</th>\n",
       "      <th>reg_date</th>\n",
       "      <th>tariff</th>\n",
       "    </tr>\n",
       "  </thead>\n",
       "  <tbody>\n",
       "    <tr>\n",
       "      <th>0</th>\n",
       "      <td>1000</td>\n",
       "      <td>52</td>\n",
       "      <td>2018-12-31</td>\n",
       "      <td>Краснодар</td>\n",
       "      <td>Рафаил</td>\n",
       "      <td>Верещагин</td>\n",
       "      <td>2018-05-25</td>\n",
       "      <td>ultra</td>\n",
       "    </tr>\n",
       "    <tr>\n",
       "      <th>1</th>\n",
       "      <td>1001</td>\n",
       "      <td>41</td>\n",
       "      <td>2018-12-31</td>\n",
       "      <td>Москва</td>\n",
       "      <td>Иван</td>\n",
       "      <td>Ежов</td>\n",
       "      <td>2018-11-01</td>\n",
       "      <td>smart</td>\n",
       "    </tr>\n",
       "    <tr>\n",
       "      <th>2</th>\n",
       "      <td>1002</td>\n",
       "      <td>59</td>\n",
       "      <td>2018-12-31</td>\n",
       "      <td>Стерлитамак</td>\n",
       "      <td>Евгений</td>\n",
       "      <td>Абрамович</td>\n",
       "      <td>2018-06-17</td>\n",
       "      <td>smart</td>\n",
       "    </tr>\n",
       "    <tr>\n",
       "      <th>3</th>\n",
       "      <td>1003</td>\n",
       "      <td>23</td>\n",
       "      <td>2018-12-31</td>\n",
       "      <td>Москва</td>\n",
       "      <td>Белла</td>\n",
       "      <td>Белякова</td>\n",
       "      <td>2018-08-17</td>\n",
       "      <td>ultra</td>\n",
       "    </tr>\n",
       "    <tr>\n",
       "      <th>4</th>\n",
       "      <td>1004</td>\n",
       "      <td>68</td>\n",
       "      <td>2018-12-31</td>\n",
       "      <td>Новокузнецк</td>\n",
       "      <td>Татьяна</td>\n",
       "      <td>Авдеенко</td>\n",
       "      <td>2018-05-14</td>\n",
       "      <td>ultra</td>\n",
       "    </tr>\n",
       "    <tr>\n",
       "      <th>...</th>\n",
       "      <td>...</td>\n",
       "      <td>...</td>\n",
       "      <td>...</td>\n",
       "      <td>...</td>\n",
       "      <td>...</td>\n",
       "      <td>...</td>\n",
       "      <td>...</td>\n",
       "      <td>...</td>\n",
       "    </tr>\n",
       "    <tr>\n",
       "      <th>495</th>\n",
       "      <td>1495</td>\n",
       "      <td>65</td>\n",
       "      <td>2018-12-31</td>\n",
       "      <td>Иркутск</td>\n",
       "      <td>Авксентий</td>\n",
       "      <td>Фокин</td>\n",
       "      <td>2018-08-28</td>\n",
       "      <td>ultra</td>\n",
       "    </tr>\n",
       "    <tr>\n",
       "      <th>496</th>\n",
       "      <td>1496</td>\n",
       "      <td>36</td>\n",
       "      <td>2018-12-31</td>\n",
       "      <td>Вологда</td>\n",
       "      <td>Трифон</td>\n",
       "      <td>Блохин</td>\n",
       "      <td>2018-01-27</td>\n",
       "      <td>smart</td>\n",
       "    </tr>\n",
       "    <tr>\n",
       "      <th>497</th>\n",
       "      <td>1497</td>\n",
       "      <td>32</td>\n",
       "      <td>2018-12-31</td>\n",
       "      <td>Челябинск</td>\n",
       "      <td>Каролина</td>\n",
       "      <td>Агеева</td>\n",
       "      <td>2018-10-09</td>\n",
       "      <td>smart</td>\n",
       "    </tr>\n",
       "    <tr>\n",
       "      <th>498</th>\n",
       "      <td>1498</td>\n",
       "      <td>68</td>\n",
       "      <td>2018-10-25</td>\n",
       "      <td>Владикавказ</td>\n",
       "      <td>Всеволод</td>\n",
       "      <td>Акимчин</td>\n",
       "      <td>2018-07-19</td>\n",
       "      <td>smart</td>\n",
       "    </tr>\n",
       "    <tr>\n",
       "      <th>499</th>\n",
       "      <td>1499</td>\n",
       "      <td>35</td>\n",
       "      <td>2018-12-31</td>\n",
       "      <td>Пермь</td>\n",
       "      <td>Гектор</td>\n",
       "      <td>Корнилов</td>\n",
       "      <td>2018-09-27</td>\n",
       "      <td>smart</td>\n",
       "    </tr>\n",
       "  </tbody>\n",
       "</table>\n",
       "<p>500 rows × 8 columns</p>\n",
       "</div>"
      ],
      "text/plain": [
       "     user_id  age churn_date         city first_name  last_name   reg_date  \\\n",
       "0       1000   52 2018-12-31    Краснодар     Рафаил  Верещагин 2018-05-25   \n",
       "1       1001   41 2018-12-31       Москва       Иван       Ежов 2018-11-01   \n",
       "2       1002   59 2018-12-31  Стерлитамак    Евгений  Абрамович 2018-06-17   \n",
       "3       1003   23 2018-12-31       Москва      Белла   Белякова 2018-08-17   \n",
       "4       1004   68 2018-12-31  Новокузнецк    Татьяна   Авдеенко 2018-05-14   \n",
       "..       ...  ...        ...          ...        ...        ...        ...   \n",
       "495     1495   65 2018-12-31      Иркутск  Авксентий      Фокин 2018-08-28   \n",
       "496     1496   36 2018-12-31      Вологда     Трифон     Блохин 2018-01-27   \n",
       "497     1497   32 2018-12-31    Челябинск   Каролина     Агеева 2018-10-09   \n",
       "498     1498   68 2018-10-25  Владикавказ   Всеволод    Акимчин 2018-07-19   \n",
       "499     1499   35 2018-12-31        Пермь     Гектор   Корнилов 2018-09-27   \n",
       "\n",
       "    tariff  \n",
       "0    ultra  \n",
       "1    smart  \n",
       "2    smart  \n",
       "3    ultra  \n",
       "4    ultra  \n",
       "..     ...  \n",
       "495  ultra  \n",
       "496  smart  \n",
       "497  smart  \n",
       "498  smart  \n",
       "499  smart  \n",
       "\n",
       "[500 rows x 8 columns]"
      ]
     },
     "execution_count": 32,
     "metadata": {},
     "output_type": "execute_result"
    }
   ],
   "source": [
    "# Заполняем данные \n",
    "users['churn_date'] = users['churn_date'].fillna('2018-12-31')\n",
    "\n",
    "# Преобразуем формат object в datetime\n",
    "users['churn_date'] = pd.to_datetime(users['churn_date'], format = '%Y-%m-%d')\n",
    "users['reg_date'] = pd.to_datetime(users['reg_date'], format = '%Y-%m-%d')\n",
    "\n",
    "users"
   ]
  },
  {
   "cell_type": "markdown",
   "id": "93b35b64",
   "metadata": {},
   "source": [
    "Объединим таблицу с таблицей calls_intr_mes"
   ]
  },
  {
   "cell_type": "code",
   "execution_count": 33,
   "id": "4824d97c",
   "metadata": {},
   "outputs": [
    {
     "data": {
      "text/html": [
       "<div>\n",
       "<style scoped>\n",
       "    .dataframe tbody tr th:only-of-type {\n",
       "        vertical-align: middle;\n",
       "    }\n",
       "\n",
       "    .dataframe tbody tr th {\n",
       "        vertical-align: top;\n",
       "    }\n",
       "\n",
       "    .dataframe thead th {\n",
       "        text-align: right;\n",
       "    }\n",
       "</style>\n",
       "<table border=\"1\" class=\"dataframe\">\n",
       "  <thead>\n",
       "    <tr style=\"text-align: right;\">\n",
       "      <th></th>\n",
       "      <th>user_id</th>\n",
       "      <th>age</th>\n",
       "      <th>churn_date</th>\n",
       "      <th>city</th>\n",
       "      <th>first_name</th>\n",
       "      <th>last_name</th>\n",
       "      <th>reg_date</th>\n",
       "      <th>tariff</th>\n",
       "      <th>month</th>\n",
       "      <th>duration</th>\n",
       "      <th>gb_used</th>\n",
       "      <th>messages</th>\n",
       "    </tr>\n",
       "  </thead>\n",
       "  <tbody>\n",
       "    <tr>\n",
       "      <th>0</th>\n",
       "      <td>1000</td>\n",
       "      <td>52</td>\n",
       "      <td>2018-12-31</td>\n",
       "      <td>Краснодар</td>\n",
       "      <td>Рафаил</td>\n",
       "      <td>Верещагин</td>\n",
       "      <td>2018-05-25</td>\n",
       "      <td>ultra</td>\n",
       "      <td>5</td>\n",
       "      <td>159.0</td>\n",
       "      <td>3.0</td>\n",
       "      <td>22.0</td>\n",
       "    </tr>\n",
       "    <tr>\n",
       "      <th>1</th>\n",
       "      <td>1000</td>\n",
       "      <td>52</td>\n",
       "      <td>2018-12-31</td>\n",
       "      <td>Краснодар</td>\n",
       "      <td>Рафаил</td>\n",
       "      <td>Верещагин</td>\n",
       "      <td>2018-05-25</td>\n",
       "      <td>ultra</td>\n",
       "      <td>6</td>\n",
       "      <td>172.0</td>\n",
       "      <td>23.0</td>\n",
       "      <td>60.0</td>\n",
       "    </tr>\n",
       "    <tr>\n",
       "      <th>2</th>\n",
       "      <td>1000</td>\n",
       "      <td>52</td>\n",
       "      <td>2018-12-31</td>\n",
       "      <td>Краснодар</td>\n",
       "      <td>Рафаил</td>\n",
       "      <td>Верещагин</td>\n",
       "      <td>2018-05-25</td>\n",
       "      <td>ultra</td>\n",
       "      <td>7</td>\n",
       "      <td>340.0</td>\n",
       "      <td>14.0</td>\n",
       "      <td>75.0</td>\n",
       "    </tr>\n",
       "    <tr>\n",
       "      <th>3</th>\n",
       "      <td>1000</td>\n",
       "      <td>52</td>\n",
       "      <td>2018-12-31</td>\n",
       "      <td>Краснодар</td>\n",
       "      <td>Рафаил</td>\n",
       "      <td>Верещагин</td>\n",
       "      <td>2018-05-25</td>\n",
       "      <td>ultra</td>\n",
       "      <td>8</td>\n",
       "      <td>408.0</td>\n",
       "      <td>14.0</td>\n",
       "      <td>81.0</td>\n",
       "    </tr>\n",
       "    <tr>\n",
       "      <th>4</th>\n",
       "      <td>1000</td>\n",
       "      <td>52</td>\n",
       "      <td>2018-12-31</td>\n",
       "      <td>Краснодар</td>\n",
       "      <td>Рафаил</td>\n",
       "      <td>Верещагин</td>\n",
       "      <td>2018-05-25</td>\n",
       "      <td>ultra</td>\n",
       "      <td>9</td>\n",
       "      <td>466.0</td>\n",
       "      <td>15.0</td>\n",
       "      <td>57.0</td>\n",
       "    </tr>\n",
       "    <tr>\n",
       "      <th>...</th>\n",
       "      <td>...</td>\n",
       "      <td>...</td>\n",
       "      <td>...</td>\n",
       "      <td>...</td>\n",
       "      <td>...</td>\n",
       "      <td>...</td>\n",
       "      <td>...</td>\n",
       "      <td>...</td>\n",
       "      <td>...</td>\n",
       "      <td>...</td>\n",
       "      <td>...</td>\n",
       "      <td>...</td>\n",
       "    </tr>\n",
       "    <tr>\n",
       "      <th>3209</th>\n",
       "      <td>1489</td>\n",
       "      <td>35</td>\n",
       "      <td>2018-12-31</td>\n",
       "      <td>Санкт-Петербург</td>\n",
       "      <td>Павел</td>\n",
       "      <td>Гончаров</td>\n",
       "      <td>2018-08-15</td>\n",
       "      <td>smart</td>\n",
       "      <td>8</td>\n",
       "      <td>NaN</td>\n",
       "      <td>11.0</td>\n",
       "      <td>17.0</td>\n",
       "    </tr>\n",
       "    <tr>\n",
       "      <th>3210</th>\n",
       "      <td>1489</td>\n",
       "      <td>35</td>\n",
       "      <td>2018-12-31</td>\n",
       "      <td>Санкт-Петербург</td>\n",
       "      <td>Павел</td>\n",
       "      <td>Гончаров</td>\n",
       "      <td>2018-08-15</td>\n",
       "      <td>smart</td>\n",
       "      <td>9</td>\n",
       "      <td>NaN</td>\n",
       "      <td>17.0</td>\n",
       "      <td>32.0</td>\n",
       "    </tr>\n",
       "    <tr>\n",
       "      <th>3211</th>\n",
       "      <td>1489</td>\n",
       "      <td>35</td>\n",
       "      <td>2018-12-31</td>\n",
       "      <td>Санкт-Петербург</td>\n",
       "      <td>Павел</td>\n",
       "      <td>Гончаров</td>\n",
       "      <td>2018-08-15</td>\n",
       "      <td>smart</td>\n",
       "      <td>10</td>\n",
       "      <td>NaN</td>\n",
       "      <td>20.0</td>\n",
       "      <td>21.0</td>\n",
       "    </tr>\n",
       "    <tr>\n",
       "      <th>3212</th>\n",
       "      <td>1489</td>\n",
       "      <td>35</td>\n",
       "      <td>2018-12-31</td>\n",
       "      <td>Санкт-Петербург</td>\n",
       "      <td>Павел</td>\n",
       "      <td>Гончаров</td>\n",
       "      <td>2018-08-15</td>\n",
       "      <td>smart</td>\n",
       "      <td>11</td>\n",
       "      <td>NaN</td>\n",
       "      <td>18.0</td>\n",
       "      <td>20.0</td>\n",
       "    </tr>\n",
       "    <tr>\n",
       "      <th>3213</th>\n",
       "      <td>1489</td>\n",
       "      <td>35</td>\n",
       "      <td>2018-12-31</td>\n",
       "      <td>Санкт-Петербург</td>\n",
       "      <td>Павел</td>\n",
       "      <td>Гончаров</td>\n",
       "      <td>2018-08-15</td>\n",
       "      <td>smart</td>\n",
       "      <td>12</td>\n",
       "      <td>NaN</td>\n",
       "      <td>17.0</td>\n",
       "      <td>35.0</td>\n",
       "    </tr>\n",
       "  </tbody>\n",
       "</table>\n",
       "<p>3214 rows × 12 columns</p>\n",
       "</div>"
      ],
      "text/plain": [
       "      user_id  age churn_date             city first_name  last_name  \\\n",
       "0        1000   52 2018-12-31        Краснодар     Рафаил  Верещагин   \n",
       "1        1000   52 2018-12-31        Краснодар     Рафаил  Верещагин   \n",
       "2        1000   52 2018-12-31        Краснодар     Рафаил  Верещагин   \n",
       "3        1000   52 2018-12-31        Краснодар     Рафаил  Верещагин   \n",
       "4        1000   52 2018-12-31        Краснодар     Рафаил  Верещагин   \n",
       "...       ...  ...        ...              ...        ...        ...   \n",
       "3209     1489   35 2018-12-31  Санкт-Петербург      Павел   Гончаров   \n",
       "3210     1489   35 2018-12-31  Санкт-Петербург      Павел   Гончаров   \n",
       "3211     1489   35 2018-12-31  Санкт-Петербург      Павел   Гончаров   \n",
       "3212     1489   35 2018-12-31  Санкт-Петербург      Павел   Гончаров   \n",
       "3213     1489   35 2018-12-31  Санкт-Петербург      Павел   Гончаров   \n",
       "\n",
       "       reg_date tariff  month  duration  gb_used  messages  \n",
       "0    2018-05-25  ultra      5     159.0      3.0      22.0  \n",
       "1    2018-05-25  ultra      6     172.0     23.0      60.0  \n",
       "2    2018-05-25  ultra      7     340.0     14.0      75.0  \n",
       "3    2018-05-25  ultra      8     408.0     14.0      81.0  \n",
       "4    2018-05-25  ultra      9     466.0     15.0      57.0  \n",
       "...         ...    ...    ...       ...      ...       ...  \n",
       "3209 2018-08-15  smart      8       NaN     11.0      17.0  \n",
       "3210 2018-08-15  smart      9       NaN     17.0      32.0  \n",
       "3211 2018-08-15  smart     10       NaN     20.0      21.0  \n",
       "3212 2018-08-15  smart     11       NaN     18.0      20.0  \n",
       "3213 2018-08-15  smart     12       NaN     17.0      35.0  \n",
       "\n",
       "[3214 rows x 12 columns]"
      ]
     },
     "execution_count": 33,
     "metadata": {},
     "output_type": "execute_result"
    }
   ],
   "source": [
    "data=users.merge(calls_intr_mes, on='user_id', how='right')\n",
    "data"
   ]
  },
  {
   "cell_type": "markdown",
   "id": "d1c75ef9",
   "metadata": {},
   "source": [
    "Проверим сколько значений Nan  осталось в таблице и заменим их на 0, поскольку этой услугой клиент в данном месяце не пользовался"
   ]
  },
  {
   "cell_type": "code",
   "execution_count": 34,
   "id": "476d3112",
   "metadata": {},
   "outputs": [
    {
     "name": "stdout",
     "output_type": "stream",
     "text": [
      "Количество нулевых значений:\n",
      "user_id         0\n",
      "age             0\n",
      "churn_date      0\n",
      "city            0\n",
      "first_name      0\n",
      "last_name       0\n",
      "reg_date        0\n",
      "tariff          0\n",
      "month           0\n",
      "duration       40\n",
      "gb_used        11\n",
      "messages      497\n",
      "dtype: int64\n"
     ]
    }
   ],
   "source": [
    "print('Количество нулевых значений:')\n",
    "print(data.isna().sum())"
   ]
  },
  {
   "cell_type": "code",
   "execution_count": 35,
   "id": "28fab993",
   "metadata": {},
   "outputs": [
    {
     "data": {
      "text/html": [
       "<div>\n",
       "<style scoped>\n",
       "    .dataframe tbody tr th:only-of-type {\n",
       "        vertical-align: middle;\n",
       "    }\n",
       "\n",
       "    .dataframe tbody tr th {\n",
       "        vertical-align: top;\n",
       "    }\n",
       "\n",
       "    .dataframe thead th {\n",
       "        text-align: right;\n",
       "    }\n",
       "</style>\n",
       "<table border=\"1\" class=\"dataframe\">\n",
       "  <thead>\n",
       "    <tr style=\"text-align: right;\">\n",
       "      <th></th>\n",
       "      <th>user_id</th>\n",
       "      <th>age</th>\n",
       "      <th>churn_date</th>\n",
       "      <th>city</th>\n",
       "      <th>first_name</th>\n",
       "      <th>last_name</th>\n",
       "      <th>reg_date</th>\n",
       "      <th>tariff</th>\n",
       "      <th>month</th>\n",
       "      <th>duration</th>\n",
       "      <th>gb_used</th>\n",
       "      <th>messages</th>\n",
       "    </tr>\n",
       "  </thead>\n",
       "  <tbody>\n",
       "    <tr>\n",
       "      <th>0</th>\n",
       "      <td>1000</td>\n",
       "      <td>52</td>\n",
       "      <td>2018-12-31</td>\n",
       "      <td>Краснодар</td>\n",
       "      <td>Рафаил</td>\n",
       "      <td>Верещагин</td>\n",
       "      <td>2018-05-25</td>\n",
       "      <td>ultra</td>\n",
       "      <td>5</td>\n",
       "      <td>159</td>\n",
       "      <td>3</td>\n",
       "      <td>22</td>\n",
       "    </tr>\n",
       "    <tr>\n",
       "      <th>1</th>\n",
       "      <td>1000</td>\n",
       "      <td>52</td>\n",
       "      <td>2018-12-31</td>\n",
       "      <td>Краснодар</td>\n",
       "      <td>Рафаил</td>\n",
       "      <td>Верещагин</td>\n",
       "      <td>2018-05-25</td>\n",
       "      <td>ultra</td>\n",
       "      <td>6</td>\n",
       "      <td>172</td>\n",
       "      <td>23</td>\n",
       "      <td>60</td>\n",
       "    </tr>\n",
       "    <tr>\n",
       "      <th>2</th>\n",
       "      <td>1000</td>\n",
       "      <td>52</td>\n",
       "      <td>2018-12-31</td>\n",
       "      <td>Краснодар</td>\n",
       "      <td>Рафаил</td>\n",
       "      <td>Верещагин</td>\n",
       "      <td>2018-05-25</td>\n",
       "      <td>ultra</td>\n",
       "      <td>7</td>\n",
       "      <td>340</td>\n",
       "      <td>14</td>\n",
       "      <td>75</td>\n",
       "    </tr>\n",
       "    <tr>\n",
       "      <th>3</th>\n",
       "      <td>1000</td>\n",
       "      <td>52</td>\n",
       "      <td>2018-12-31</td>\n",
       "      <td>Краснодар</td>\n",
       "      <td>Рафаил</td>\n",
       "      <td>Верещагин</td>\n",
       "      <td>2018-05-25</td>\n",
       "      <td>ultra</td>\n",
       "      <td>8</td>\n",
       "      <td>408</td>\n",
       "      <td>14</td>\n",
       "      <td>81</td>\n",
       "    </tr>\n",
       "    <tr>\n",
       "      <th>4</th>\n",
       "      <td>1000</td>\n",
       "      <td>52</td>\n",
       "      <td>2018-12-31</td>\n",
       "      <td>Краснодар</td>\n",
       "      <td>Рафаил</td>\n",
       "      <td>Верещагин</td>\n",
       "      <td>2018-05-25</td>\n",
       "      <td>ultra</td>\n",
       "      <td>9</td>\n",
       "      <td>466</td>\n",
       "      <td>15</td>\n",
       "      <td>57</td>\n",
       "    </tr>\n",
       "    <tr>\n",
       "      <th>...</th>\n",
       "      <td>...</td>\n",
       "      <td>...</td>\n",
       "      <td>...</td>\n",
       "      <td>...</td>\n",
       "      <td>...</td>\n",
       "      <td>...</td>\n",
       "      <td>...</td>\n",
       "      <td>...</td>\n",
       "      <td>...</td>\n",
       "      <td>...</td>\n",
       "      <td>...</td>\n",
       "      <td>...</td>\n",
       "    </tr>\n",
       "    <tr>\n",
       "      <th>3209</th>\n",
       "      <td>1489</td>\n",
       "      <td>35</td>\n",
       "      <td>2018-12-31</td>\n",
       "      <td>Санкт-Петербург</td>\n",
       "      <td>Павел</td>\n",
       "      <td>Гончаров</td>\n",
       "      <td>2018-08-15</td>\n",
       "      <td>smart</td>\n",
       "      <td>8</td>\n",
       "      <td>0</td>\n",
       "      <td>11</td>\n",
       "      <td>17</td>\n",
       "    </tr>\n",
       "    <tr>\n",
       "      <th>3210</th>\n",
       "      <td>1489</td>\n",
       "      <td>35</td>\n",
       "      <td>2018-12-31</td>\n",
       "      <td>Санкт-Петербург</td>\n",
       "      <td>Павел</td>\n",
       "      <td>Гончаров</td>\n",
       "      <td>2018-08-15</td>\n",
       "      <td>smart</td>\n",
       "      <td>9</td>\n",
       "      <td>0</td>\n",
       "      <td>17</td>\n",
       "      <td>32</td>\n",
       "    </tr>\n",
       "    <tr>\n",
       "      <th>3211</th>\n",
       "      <td>1489</td>\n",
       "      <td>35</td>\n",
       "      <td>2018-12-31</td>\n",
       "      <td>Санкт-Петербург</td>\n",
       "      <td>Павел</td>\n",
       "      <td>Гончаров</td>\n",
       "      <td>2018-08-15</td>\n",
       "      <td>smart</td>\n",
       "      <td>10</td>\n",
       "      <td>0</td>\n",
       "      <td>20</td>\n",
       "      <td>21</td>\n",
       "    </tr>\n",
       "    <tr>\n",
       "      <th>3212</th>\n",
       "      <td>1489</td>\n",
       "      <td>35</td>\n",
       "      <td>2018-12-31</td>\n",
       "      <td>Санкт-Петербург</td>\n",
       "      <td>Павел</td>\n",
       "      <td>Гончаров</td>\n",
       "      <td>2018-08-15</td>\n",
       "      <td>smart</td>\n",
       "      <td>11</td>\n",
       "      <td>0</td>\n",
       "      <td>18</td>\n",
       "      <td>20</td>\n",
       "    </tr>\n",
       "    <tr>\n",
       "      <th>3213</th>\n",
       "      <td>1489</td>\n",
       "      <td>35</td>\n",
       "      <td>2018-12-31</td>\n",
       "      <td>Санкт-Петербург</td>\n",
       "      <td>Павел</td>\n",
       "      <td>Гончаров</td>\n",
       "      <td>2018-08-15</td>\n",
       "      <td>smart</td>\n",
       "      <td>12</td>\n",
       "      <td>0</td>\n",
       "      <td>17</td>\n",
       "      <td>35</td>\n",
       "    </tr>\n",
       "  </tbody>\n",
       "</table>\n",
       "<p>3214 rows × 12 columns</p>\n",
       "</div>"
      ],
      "text/plain": [
       "      user_id  age churn_date             city first_name  last_name  \\\n",
       "0        1000   52 2018-12-31        Краснодар     Рафаил  Верещагин   \n",
       "1        1000   52 2018-12-31        Краснодар     Рафаил  Верещагин   \n",
       "2        1000   52 2018-12-31        Краснодар     Рафаил  Верещагин   \n",
       "3        1000   52 2018-12-31        Краснодар     Рафаил  Верещагин   \n",
       "4        1000   52 2018-12-31        Краснодар     Рафаил  Верещагин   \n",
       "...       ...  ...        ...              ...        ...        ...   \n",
       "3209     1489   35 2018-12-31  Санкт-Петербург      Павел   Гончаров   \n",
       "3210     1489   35 2018-12-31  Санкт-Петербург      Павел   Гончаров   \n",
       "3211     1489   35 2018-12-31  Санкт-Петербург      Павел   Гончаров   \n",
       "3212     1489   35 2018-12-31  Санкт-Петербург      Павел   Гончаров   \n",
       "3213     1489   35 2018-12-31  Санкт-Петербург      Павел   Гончаров   \n",
       "\n",
       "       reg_date tariff  month  duration  gb_used  messages  \n",
       "0    2018-05-25  ultra      5       159        3        22  \n",
       "1    2018-05-25  ultra      6       172       23        60  \n",
       "2    2018-05-25  ultra      7       340       14        75  \n",
       "3    2018-05-25  ultra      8       408       14        81  \n",
       "4    2018-05-25  ultra      9       466       15        57  \n",
       "...         ...    ...    ...       ...      ...       ...  \n",
       "3209 2018-08-15  smart      8         0       11        17  \n",
       "3210 2018-08-15  smart      9         0       17        32  \n",
       "3211 2018-08-15  smart     10         0       20        21  \n",
       "3212 2018-08-15  smart     11         0       18        20  \n",
       "3213 2018-08-15  smart     12         0       17        35  \n",
       "\n",
       "[3214 rows x 12 columns]"
      ]
     },
     "execution_count": 35,
     "metadata": {},
     "output_type": "execute_result"
    }
   ],
   "source": [
    "# заменим пропуски на 0\n",
    "data['duration'] = data['duration'].fillna(0)\n",
    "data['gb_used'] = data['gb_used'].fillna(0)\n",
    "data['messages'] = data['messages'].fillna(0)\n",
    "\n",
    "# приведем данные в этих столбцах к типу int\n",
    "data[['duration', 'gb_used', 'messages']] = data[['duration', 'gb_used', 'messages']].astype(int)\n",
    "data"
   ]
  },
  {
   "cell_type": "code",
   "execution_count": 36,
   "id": "48f5e192",
   "metadata": {},
   "outputs": [
    {
     "name": "stdout",
     "output_type": "stream",
     "text": [
      "Таблица тарифов:\n"
     ]
    },
    {
     "data": {
      "text/html": [
       "<div>\n",
       "<style scoped>\n",
       "    .dataframe tbody tr th:only-of-type {\n",
       "        vertical-align: middle;\n",
       "    }\n",
       "\n",
       "    .dataframe tbody tr th {\n",
       "        vertical-align: top;\n",
       "    }\n",
       "\n",
       "    .dataframe thead th {\n",
       "        text-align: right;\n",
       "    }\n",
       "</style>\n",
       "<table border=\"1\" class=\"dataframe\">\n",
       "  <thead>\n",
       "    <tr style=\"text-align: right;\">\n",
       "      <th></th>\n",
       "      <th>messages_included</th>\n",
       "      <th>gb_per_month_included</th>\n",
       "      <th>minutes_included</th>\n",
       "      <th>rub_monthly_fee</th>\n",
       "      <th>rub_per_gb</th>\n",
       "      <th>rub_per_message</th>\n",
       "      <th>rub_per_minute</th>\n",
       "      <th>tariff_name</th>\n",
       "    </tr>\n",
       "  </thead>\n",
       "  <tbody>\n",
       "    <tr>\n",
       "      <th>0</th>\n",
       "      <td>50</td>\n",
       "      <td>15</td>\n",
       "      <td>500</td>\n",
       "      <td>550</td>\n",
       "      <td>200</td>\n",
       "      <td>3</td>\n",
       "      <td>3</td>\n",
       "      <td>smart</td>\n",
       "    </tr>\n",
       "    <tr>\n",
       "      <th>1</th>\n",
       "      <td>1000</td>\n",
       "      <td>30</td>\n",
       "      <td>3000</td>\n",
       "      <td>1950</td>\n",
       "      <td>150</td>\n",
       "      <td>1</td>\n",
       "      <td>1</td>\n",
       "      <td>ultra</td>\n",
       "    </tr>\n",
       "  </tbody>\n",
       "</table>\n",
       "</div>"
      ],
      "text/plain": [
       "   messages_included  gb_per_month_included  minutes_included  \\\n",
       "0                 50                     15               500   \n",
       "1               1000                     30              3000   \n",
       "\n",
       "   rub_monthly_fee  rub_per_gb  rub_per_message  rub_per_minute tariff_name  \n",
       "0              550         200                3               3       smart  \n",
       "1             1950         150                1               1       ultra  "
      ]
     },
     "execution_count": 36,
     "metadata": {},
     "output_type": "execute_result"
    }
   ],
   "source": [
    "print('Таблица тарифов:')\n",
    "tariffs"
   ]
  },
  {
   "cell_type": "markdown",
   "id": "85a6bd2f",
   "metadata": {},
   "source": [
    "Расчитаем помесячную выручку с каждого пользователя "
   ]
  },
  {
   "cell_type": "code",
   "execution_count": 37,
   "id": "04fdcb10",
   "metadata": {},
   "outputs": [],
   "source": [
    "#функция считает выручку с каждого пользователя\n",
    "#вычитаем бесплатный лимит из суммарного количества звонков, сообщений и интернет-трафика \n",
    "#остаток умножаем на значение из тарифного плана\n",
    "#прибаляем абонентскую плату, соответствующую тарифному плану\n",
    "\n",
    "def revenue(row):\n",
    "    revenue_month = 0\n",
    "    if row['tariff'] == 'ultra':\n",
    "        if row['duration'] > (tariffs.loc[1, 'minutes_included']):\n",
    "            revenue_month += (tariffs.loc[1, 'rub_per_minute'] * (row['duration']  - tariffs.loc[1, 'minutes_included']))\n",
    "        if row['gb_used'] > (tariffs.loc[1, 'gb_per_month_included']):\n",
    "            revenue_month += (tariffs.loc[1, 'rub_per_gb'] * (row['gb_used']  - tariffs.loc[1, 'gb_per_month_included']))\n",
    "        if row['messages'] > (tariffs.loc[1, 'messages_included']):\n",
    "            revenue_month += (tariffs.loc[1, 'rub_per_message'] * (row['messages']  - tariffs.loc[1, 'messages_included']))\n",
    "        revenue_month += tariffs.loc[1, 'rub_monthly_fee']\n",
    "    else:\n",
    "        if row['duration'] > (tariffs.loc[0, 'minutes_included']):\n",
    "            revenue_month += (tariffs.loc[0, 'rub_per_minute'] * (row['duration']  - tariffs.loc[0, 'minutes_included']))\n",
    "        if row['gb_used'] > (tariffs.loc[0, 'gb_per_month_included']):\n",
    "            revenue_month += (tariffs.loc[0, 'rub_per_gb'] * (row['gb_used']  - tariffs.loc[0, 'gb_per_month_included']))\n",
    "        if row['messages'] > (tariffs.loc[0, 'messages_included']):\n",
    "            revenue_month += (tariffs.loc[0, 'rub_per_message'] * (row['messages']  - tariffs.loc[0, 'messages_included']))  \n",
    "        revenue_month += tariffs.loc[0, 'rub_monthly_fee']\n",
    "    return revenue_month\n"
   ]
  },
  {
   "cell_type": "code",
   "execution_count": 38,
   "id": "26879e2b",
   "metadata": {},
   "outputs": [
    {
     "data": {
      "text/html": [
       "<div>\n",
       "<style scoped>\n",
       "    .dataframe tbody tr th:only-of-type {\n",
       "        vertical-align: middle;\n",
       "    }\n",
       "\n",
       "    .dataframe tbody tr th {\n",
       "        vertical-align: top;\n",
       "    }\n",
       "\n",
       "    .dataframe thead th {\n",
       "        text-align: right;\n",
       "    }\n",
       "</style>\n",
       "<table border=\"1\" class=\"dataframe\">\n",
       "  <thead>\n",
       "    <tr style=\"text-align: right;\">\n",
       "      <th></th>\n",
       "      <th>user_id</th>\n",
       "      <th>age</th>\n",
       "      <th>churn_date</th>\n",
       "      <th>city</th>\n",
       "      <th>first_name</th>\n",
       "      <th>last_name</th>\n",
       "      <th>reg_date</th>\n",
       "      <th>tariff</th>\n",
       "      <th>month</th>\n",
       "      <th>duration</th>\n",
       "      <th>gb_used</th>\n",
       "      <th>messages</th>\n",
       "      <th>revenue_month</th>\n",
       "    </tr>\n",
       "  </thead>\n",
       "  <tbody>\n",
       "    <tr>\n",
       "      <th>0</th>\n",
       "      <td>1000</td>\n",
       "      <td>52</td>\n",
       "      <td>2018-12-31</td>\n",
       "      <td>Краснодар</td>\n",
       "      <td>Рафаил</td>\n",
       "      <td>Верещагин</td>\n",
       "      <td>2018-05-25</td>\n",
       "      <td>ultra</td>\n",
       "      <td>5</td>\n",
       "      <td>159</td>\n",
       "      <td>3</td>\n",
       "      <td>22</td>\n",
       "      <td>1950</td>\n",
       "    </tr>\n",
       "    <tr>\n",
       "      <th>1</th>\n",
       "      <td>1000</td>\n",
       "      <td>52</td>\n",
       "      <td>2018-12-31</td>\n",
       "      <td>Краснодар</td>\n",
       "      <td>Рафаил</td>\n",
       "      <td>Верещагин</td>\n",
       "      <td>2018-05-25</td>\n",
       "      <td>ultra</td>\n",
       "      <td>6</td>\n",
       "      <td>172</td>\n",
       "      <td>23</td>\n",
       "      <td>60</td>\n",
       "      <td>1950</td>\n",
       "    </tr>\n",
       "    <tr>\n",
       "      <th>2</th>\n",
       "      <td>1000</td>\n",
       "      <td>52</td>\n",
       "      <td>2018-12-31</td>\n",
       "      <td>Краснодар</td>\n",
       "      <td>Рафаил</td>\n",
       "      <td>Верещагин</td>\n",
       "      <td>2018-05-25</td>\n",
       "      <td>ultra</td>\n",
       "      <td>7</td>\n",
       "      <td>340</td>\n",
       "      <td>14</td>\n",
       "      <td>75</td>\n",
       "      <td>1950</td>\n",
       "    </tr>\n",
       "    <tr>\n",
       "      <th>3</th>\n",
       "      <td>1000</td>\n",
       "      <td>52</td>\n",
       "      <td>2018-12-31</td>\n",
       "      <td>Краснодар</td>\n",
       "      <td>Рафаил</td>\n",
       "      <td>Верещагин</td>\n",
       "      <td>2018-05-25</td>\n",
       "      <td>ultra</td>\n",
       "      <td>8</td>\n",
       "      <td>408</td>\n",
       "      <td>14</td>\n",
       "      <td>81</td>\n",
       "      <td>1950</td>\n",
       "    </tr>\n",
       "    <tr>\n",
       "      <th>4</th>\n",
       "      <td>1000</td>\n",
       "      <td>52</td>\n",
       "      <td>2018-12-31</td>\n",
       "      <td>Краснодар</td>\n",
       "      <td>Рафаил</td>\n",
       "      <td>Верещагин</td>\n",
       "      <td>2018-05-25</td>\n",
       "      <td>ultra</td>\n",
       "      <td>9</td>\n",
       "      <td>466</td>\n",
       "      <td>15</td>\n",
       "      <td>57</td>\n",
       "      <td>1950</td>\n",
       "    </tr>\n",
       "    <tr>\n",
       "      <th>...</th>\n",
       "      <td>...</td>\n",
       "      <td>...</td>\n",
       "      <td>...</td>\n",
       "      <td>...</td>\n",
       "      <td>...</td>\n",
       "      <td>...</td>\n",
       "      <td>...</td>\n",
       "      <td>...</td>\n",
       "      <td>...</td>\n",
       "      <td>...</td>\n",
       "      <td>...</td>\n",
       "      <td>...</td>\n",
       "      <td>...</td>\n",
       "    </tr>\n",
       "    <tr>\n",
       "      <th>3209</th>\n",
       "      <td>1489</td>\n",
       "      <td>35</td>\n",
       "      <td>2018-12-31</td>\n",
       "      <td>Санкт-Петербург</td>\n",
       "      <td>Павел</td>\n",
       "      <td>Гончаров</td>\n",
       "      <td>2018-08-15</td>\n",
       "      <td>smart</td>\n",
       "      <td>8</td>\n",
       "      <td>0</td>\n",
       "      <td>11</td>\n",
       "      <td>17</td>\n",
       "      <td>550</td>\n",
       "    </tr>\n",
       "    <tr>\n",
       "      <th>3210</th>\n",
       "      <td>1489</td>\n",
       "      <td>35</td>\n",
       "      <td>2018-12-31</td>\n",
       "      <td>Санкт-Петербург</td>\n",
       "      <td>Павел</td>\n",
       "      <td>Гончаров</td>\n",
       "      <td>2018-08-15</td>\n",
       "      <td>smart</td>\n",
       "      <td>9</td>\n",
       "      <td>0</td>\n",
       "      <td>17</td>\n",
       "      <td>32</td>\n",
       "      <td>950</td>\n",
       "    </tr>\n",
       "    <tr>\n",
       "      <th>3211</th>\n",
       "      <td>1489</td>\n",
       "      <td>35</td>\n",
       "      <td>2018-12-31</td>\n",
       "      <td>Санкт-Петербург</td>\n",
       "      <td>Павел</td>\n",
       "      <td>Гончаров</td>\n",
       "      <td>2018-08-15</td>\n",
       "      <td>smart</td>\n",
       "      <td>10</td>\n",
       "      <td>0</td>\n",
       "      <td>20</td>\n",
       "      <td>21</td>\n",
       "      <td>1550</td>\n",
       "    </tr>\n",
       "    <tr>\n",
       "      <th>3212</th>\n",
       "      <td>1489</td>\n",
       "      <td>35</td>\n",
       "      <td>2018-12-31</td>\n",
       "      <td>Санкт-Петербург</td>\n",
       "      <td>Павел</td>\n",
       "      <td>Гончаров</td>\n",
       "      <td>2018-08-15</td>\n",
       "      <td>smart</td>\n",
       "      <td>11</td>\n",
       "      <td>0</td>\n",
       "      <td>18</td>\n",
       "      <td>20</td>\n",
       "      <td>1150</td>\n",
       "    </tr>\n",
       "    <tr>\n",
       "      <th>3213</th>\n",
       "      <td>1489</td>\n",
       "      <td>35</td>\n",
       "      <td>2018-12-31</td>\n",
       "      <td>Санкт-Петербург</td>\n",
       "      <td>Павел</td>\n",
       "      <td>Гончаров</td>\n",
       "      <td>2018-08-15</td>\n",
       "      <td>smart</td>\n",
       "      <td>12</td>\n",
       "      <td>0</td>\n",
       "      <td>17</td>\n",
       "      <td>35</td>\n",
       "      <td>950</td>\n",
       "    </tr>\n",
       "  </tbody>\n",
       "</table>\n",
       "<p>3214 rows × 13 columns</p>\n",
       "</div>"
      ],
      "text/plain": [
       "      user_id  age churn_date             city first_name  last_name  \\\n",
       "0        1000   52 2018-12-31        Краснодар     Рафаил  Верещагин   \n",
       "1        1000   52 2018-12-31        Краснодар     Рафаил  Верещагин   \n",
       "2        1000   52 2018-12-31        Краснодар     Рафаил  Верещагин   \n",
       "3        1000   52 2018-12-31        Краснодар     Рафаил  Верещагин   \n",
       "4        1000   52 2018-12-31        Краснодар     Рафаил  Верещагин   \n",
       "...       ...  ...        ...              ...        ...        ...   \n",
       "3209     1489   35 2018-12-31  Санкт-Петербург      Павел   Гончаров   \n",
       "3210     1489   35 2018-12-31  Санкт-Петербург      Павел   Гончаров   \n",
       "3211     1489   35 2018-12-31  Санкт-Петербург      Павел   Гончаров   \n",
       "3212     1489   35 2018-12-31  Санкт-Петербург      Павел   Гончаров   \n",
       "3213     1489   35 2018-12-31  Санкт-Петербург      Павел   Гончаров   \n",
       "\n",
       "       reg_date tariff  month  duration  gb_used  messages  revenue_month  \n",
       "0    2018-05-25  ultra      5       159        3        22           1950  \n",
       "1    2018-05-25  ultra      6       172       23        60           1950  \n",
       "2    2018-05-25  ultra      7       340       14        75           1950  \n",
       "3    2018-05-25  ultra      8       408       14        81           1950  \n",
       "4    2018-05-25  ultra      9       466       15        57           1950  \n",
       "...         ...    ...    ...       ...      ...       ...            ...  \n",
       "3209 2018-08-15  smart      8         0       11        17            550  \n",
       "3210 2018-08-15  smart      9         0       17        32            950  \n",
       "3211 2018-08-15  smart     10         0       20        21           1550  \n",
       "3212 2018-08-15  smart     11         0       18        20           1150  \n",
       "3213 2018-08-15  smart     12         0       17        35            950  \n",
       "\n",
       "[3214 rows x 13 columns]"
      ]
     },
     "execution_count": 38,
     "metadata": {},
     "output_type": "execute_result"
    }
   ],
   "source": [
    "# Рассчитаем выручку по месяцам для каждого абонента\n",
    "data['revenue_month'] = data.apply(revenue, axis = 1)\n",
    "data"
   ]
  },
  {
   "cell_type": "markdown",
   "id": "1547276c",
   "metadata": {},
   "source": [
    "#### Вывод\n",
    "\n",
    "Избавились в данных от пропущенных значений, привели их к нужному формату и одинаковым единицам измерения. \n",
    "\n",
    "Для каждого пользователя посчитано: \n",
    "\n",
    "•\tколичество сделанных звонков и израсходованных минут разговора по месяцам;\n",
    "\n",
    "•\tколичество отправленных сообщений по месяцам;\n",
    "\n",
    "•\tобъем израсходованного интернет-трафика по месяцам;\n",
    "\n",
    "•\tпомесячную выручку с каждого пользователя.\n",
    "\n",
    "Объединили таблицы.  Теперь данные пригодны для анализа. "
   ]
  },
  {
   "cell_type": "markdown",
   "id": "fd120579",
   "metadata": {},
   "source": [
    "## Исследовательский анализ данных"
   ]
  },
  {
   "cell_type": "code",
   "execution_count": null,
   "id": "7e72756c",
   "metadata": {},
   "outputs": [],
   "source": []
  },
  {
   "cell_type": "markdown",
   "id": "cf7b6047",
   "metadata": {},
   "source": [
    "Посмотрим, влияет ли возраст клиента на показатель выручки для разных тарифов"
   ]
  },
  {
   "cell_type": "code",
   "execution_count": 39,
   "id": "c56ae81d",
   "metadata": {},
   "outputs": [
    {
     "data": {
      "image/png": "[encoded data removed]",
      "text/plain": [
       "<Figure size 1080x720 with 2 Axes>"
      ]
     },
     "metadata": {
      "needs_background": "light"
     },
     "output_type": "display_data"
    }
   ],
   "source": [
    "#Возраст клиента и показатель выручки для разных тарифов\n",
    "data_age = data.pivot_table(\n",
    "                        index=data['tariff'], \n",
    "                        columns='age',\n",
    "                        values= 'revenue_month', \n",
    "                        aggfunc='sum')\n",
    "plt.figure(figsize=(15,10))\n",
    "g = sns.heatmap(data_age, annot=False, fmt=\".0f\", linewidths=.5, cmap=\"YlGnBu\", square = True, cbar_kws={\"orientation\": \"horizontal\"})\n",
    "plt.title('Возраст клиента и сумма выручки для разных тарифов')\n",
    "plt.show()\n"
   ]
  },
  {
   "cell_type": "markdown",
   "id": "f8a6bc7e",
   "metadata": {},
   "source": [
    "Явной зависимости от возраста не прослеживается. Самые молодые и самые возрастные клиенты не лидеры по выручке. "
   ]
  },
  {
   "cell_type": "code",
   "execution_count": 40,
   "id": "c1503a51",
   "metadata": {},
   "outputs": [
    {
     "name": "stdout",
     "output_type": "stream",
     "text": [
      "Доход по абонентской плате тарифа smart - 1225950\n",
      "Доход сверх абонентской платы тарифа smart - 1201099\n"
     ]
    }
   ],
   "source": [
    "#Соберем данные об абонентах, кто по тарифу smart платил сверх абонентской платы\n",
    "data_over_sm=data.query('revenue_month > 550 & revenue_month < 1950').pivot_table(index=\"last_name\", values='revenue_month', aggfunc='sum' ).astype(int)\n",
    "\n",
    "#Выручка, полученная сверх абонентской платы по ним\n",
    "revenue_over_smart = data_over_sm['revenue_month'].sum() - (tariffs.loc[0, 'rub_monthly_fee'] * data_over_sm.shape[0])\n",
    "\n",
    "#Выручка, полученная по абонентской плате по всем абонентам\n",
    "revenue_on_smart = data.query('tariff == \"smart\"').shape[0] * tariffs.loc[0, 'rub_monthly_fee']\n",
    "\n",
    "print('Доход по абонентской плате тарифа smart -', revenue_on_smart)\n",
    "print('Доход сверх абонентской платы тарифа smart -', revenue_over_smart)"
   ]
  },
  {
   "cell_type": "code",
   "execution_count": 41,
   "id": "723ba7e5",
   "metadata": {},
   "outputs": [
    {
     "name": "stdout",
     "output_type": "stream",
     "text": [
      "Доход по абонентской плате тарифа ultra - 1920750\n",
      "Доход сверх абонентской платы тарифа ultra - 1102752\n"
     ]
    }
   ],
   "source": [
    "#Соберем данные об абонентах, кто по тарифу ultra платил сверх абонентской платы\n",
    "data_over_ul=data.query('revenue_month >  1950').pivot_table(index=\"last_name\", values='revenue_month', aggfunc='sum' ).astype(int)\n",
    "\n",
    "#Выручка, полученная сверх абонентской платы по ним\n",
    "revenue_over_ultra = data_over_ul['revenue_month'].sum() - (tariffs.loc[1, 'rub_monthly_fee'] * data_over_ul.shape[0])\n",
    "\n",
    "#Выручка, полученная по абонентской плате по всем абонентам\n",
    "revenue_on_ultra = data.query('tariff == \"ultra\"').shape[0] * tariffs.loc[1, 'rub_monthly_fee']\n",
    "\n",
    "print('Доход по абонентской плате тарифа ultra -', revenue_on_ultra)\n",
    "print('Доход сверх абонентской платы тарифа ultra -', revenue_over_ultra)"
   ]
  },
  {
   "cell_type": "markdown",
   "id": "50a871ab",
   "metadata": {},
   "source": [
    "Получили данные, что по тарифу smart выручка, полученная по абонентской плате примерно равна выручке за услуги не включенные в абонентскую плату. По тарифу ultra переплат сверх тарифа меньше.\n",
    "\n",
    "Проанализируем данные, опишем поведение клиентов оператора по разным тарифам. \n",
    "Посчитаем, сколько минут разговора, сколько сообщений и какой объём интернет-трафика требуется пользователям каждого тарифа в месяц. Посчитаем среднее количество, дисперсию и стандартное отклонение. "
   ]
  },
  {
   "cell_type": "code",
   "execution_count": 42,
   "id": "4afacdef",
   "metadata": {},
   "outputs": [
    {
     "name": "stdout",
     "output_type": "stream",
     "text": [
      "Не используют  : 1.4% клиентов\n"
     ]
    }
   ],
   "source": [
    "# Посмотрим, сколько клиентов не пользуется звонками\n",
    "no_dur = 1 - ( data.query('duration != 0').shape[0])/data.shape[0]\n",
    "print('Не используют  : {:.1%} клиентов'.format(no_dur))"
   ]
  },
  {
   "cell_type": "markdown",
   "id": "3ee0e3e8",
   "metadata": {},
   "source": [
    "Почти все клиенты пользуются звонками. Вероятно, 1,4% испольуют симки для интернета. \n",
    "Рассмотрим только те строки, в которых есть данные о количестве минут. \n",
    "Уберем строки в которых количество минут = 0, "
   ]
  },
  {
   "cell_type": "code",
   "execution_count": 43,
   "id": "607e8248",
   "metadata": {},
   "outputs": [
    {
     "data": {
      "text/html": [
       "<div>\n",
       "<style scoped>\n",
       "    .dataframe tbody tr th:only-of-type {\n",
       "        vertical-align: middle;\n",
       "    }\n",
       "\n",
       "    .dataframe tbody tr th {\n",
       "        vertical-align: top;\n",
       "    }\n",
       "\n",
       "    .dataframe thead th {\n",
       "        text-align: right;\n",
       "    }\n",
       "</style>\n",
       "<table border=\"1\" class=\"dataframe\">\n",
       "  <thead>\n",
       "    <tr style=\"text-align: right;\">\n",
       "      <th></th>\n",
       "      <th>duration</th>\n",
       "    </tr>\n",
       "    <tr>\n",
       "      <th>tariff</th>\n",
       "      <th></th>\n",
       "    </tr>\n",
       "  </thead>\n",
       "  <tbody>\n",
       "    <tr>\n",
       "      <th>smart</th>\n",
       "      <td>419</td>\n",
       "    </tr>\n",
       "    <tr>\n",
       "      <th>ultra</th>\n",
       "      <td>547</td>\n",
       "    </tr>\n",
       "  </tbody>\n",
       "</table>\n",
       "</div>"
      ],
      "text/plain": [
       "        duration\n",
       "tariff          \n",
       "smart        419\n",
       "ultra        547"
      ]
     },
     "execution_count": 43,
     "metadata": {},
     "output_type": "execute_result"
    }
   ],
   "source": [
    "data_dur = data.query('duration != 0')\n",
    "#Сколько минут разговора требуется пользователям каждого тарифа в месяц\n",
    "data_dur.groupby('tariff').agg({'duration': 'mean'}).astype(int)"
   ]
  },
  {
   "cell_type": "code",
   "execution_count": 44,
   "id": "ca9f6607",
   "metadata": {},
   "outputs": [
    {
     "data": {
      "text/html": [
       "<div>\n",
       "<style scoped>\n",
       "    .dataframe tbody tr th:only-of-type {\n",
       "        vertical-align: middle;\n",
       "    }\n",
       "\n",
       "    .dataframe tbody tr th {\n",
       "        vertical-align: top;\n",
       "    }\n",
       "\n",
       "    .dataframe thead th {\n",
       "        text-align: right;\n",
       "    }\n",
       "</style>\n",
       "<table border=\"1\" class=\"dataframe\">\n",
       "  <thead>\n",
       "    <tr style=\"text-align: right;\">\n",
       "      <th></th>\n",
       "      <th>minutes_included</th>\n",
       "      <th>tariff_name</th>\n",
       "    </tr>\n",
       "  </thead>\n",
       "  <tbody>\n",
       "    <tr>\n",
       "      <th>0</th>\n",
       "      <td>500</td>\n",
       "      <td>smart</td>\n",
       "    </tr>\n",
       "    <tr>\n",
       "      <th>1</th>\n",
       "      <td>3000</td>\n",
       "      <td>ultra</td>\n",
       "    </tr>\n",
       "  </tbody>\n",
       "</table>\n",
       "</div>"
      ],
      "text/plain": [
       "   minutes_included tariff_name\n",
       "0               500       smart\n",
       "1              3000       ultra"
      ]
     },
     "execution_count": 44,
     "metadata": {},
     "output_type": "execute_result"
    }
   ],
   "source": [
    "#Сколько минут разговора предоставляется пользователям каждого тарифа в рамках абонентской платы\n",
    "tariffs[['minutes_included', 'tariff_name']]"
   ]
  },
  {
   "cell_type": "markdown",
   "id": "725fd564",
   "metadata": {},
   "source": [
    "Хотя пользователи ultra и звонят, в среднем больше, чем smart но в рамках тарифов им предоставляется 3000, что намного выше среднего. "
   ]
  },
  {
   "cell_type": "code",
   "execution_count": 45,
   "id": "01cd61f0",
   "metadata": {},
   "outputs": [
    {
     "name": "stdout",
     "output_type": "stream",
     "text": [
      "Дисперсия минут для тарифа ultra - 93239.8660651264\n",
      "Стандартное отклонение минут для тарифа ultra - 305.3520362878335\n",
      "Среднее для тарифа ultra - 547.7550158394931\n"
     ]
    }
   ],
   "source": [
    "# Дисперсия и стандартное отклонение для продолжительности звонков тарифа ultra\n",
    "variance = np.var(data_dur.query('tariff == \"ultra\"')['duration'])\n",
    "standard_deviation = np.std(data_dur.query('tariff == \"ultra\"')['duration'])\n",
    "mean = (data_dur.query('tariff == \"ultra\"')['duration'].mean())\n",
    "\n",
    "print('Дисперсия минут для тарифа ultra -', variance) \n",
    "print('Стандартное отклонение минут для тарифа ultra -', standard_deviation) \n",
    "print('Среднее для тарифа ultra -', mean) "
   ]
  },
  {
   "cell_type": "code",
   "execution_count": 46,
   "id": "61b114e5",
   "metadata": {},
   "outputs": [
    {
     "name": "stdout",
     "output_type": "stream",
     "text": [
      "Дисперсия минут для тарифа smart - 35702.046530995045\n",
      "Стандартное отклонение минут для тарифа smart - 188.94985189460996\n",
      "Среднее для тарифа smart - 419.4403421882035\n"
     ]
    }
   ],
   "source": [
    "# Дисперсия и стандартное отклонение для продолжительности звонков тарифа smart\n",
    "variance = np.var(data_dur.query('tariff == \"smart\"')['duration'])\n",
    "standard_deviation = np.std(data_dur.query('tariff == \"smart\"')['duration'])\n",
    "mean = (data_dur.query('tariff == \"smart\"')['duration'].mean())\n",
    "\n",
    "print('Дисперсия минут для тарифа smart -', variance) \n",
    "print('Стандартное отклонение минут для тарифа smart -', standard_deviation) \n",
    "print('Среднее для тарифа smart -', mean) "
   ]
  },
  {
   "cell_type": "code",
   "execution_count": 47,
   "id": "91cdd851",
   "metadata": {},
   "outputs": [
    {
     "name": "stdout",
     "output_type": "stream",
     "text": [
      "Дисперсия минут для обоих тарифов - 56352.13146846863\n",
      "Стандартное отклонение минут для обоих тарифов - 237.38603890808034\n",
      "Среднее для обоих тарифов - 457.79703282828285\n"
     ]
    }
   ],
   "source": [
    "# Дисперсия и стандартное отклонение для обоих тарифов\n",
    "variance = np.var(data_dur['duration'])\n",
    "standard_deviation = np.std(data_dur['duration'])\n",
    "mean = (data_dur['duration'].mean())\n",
    "\n",
    "print('Дисперсия минут для обоих тарифов -', variance) \n",
    "print('Стандартное отклонение минут для обоих тарифов -', standard_deviation) \n",
    "print('Среднее для обоих тарифов -', mean) "
   ]
  },
  {
   "cell_type": "code",
   "execution_count": 48,
   "id": "1a5a9223",
   "metadata": {},
   "outputs": [],
   "source": [
    "#Напишем функцию, строящую графики типа distplot\n",
    "#датасет, название столбца, заголовок графика\n",
    "    \n",
    "def print_distplot(x_data, column, title=\"\"):    \n",
    "    sns.set_style('whitegrid')\n",
    "    plt.figure(figsize=(12,10))\n",
    "    ax = sns.distplot(x_data.loc[x_data['tariff'] == 'ultra', column],  bins=50, label='ultra')\n",
    "    sns.distplot(x_data.loc[x_data['tariff'] == 'smart', column],  bins=50, ax = ax, label='smart')\n",
    "    plt.axes().set_title(title)\n",
    "    plt.legend()\n",
    "    plt.show()    \n"
   ]
  },
  {
   "cell_type": "code",
   "execution_count": 49,
   "id": "3d901c2c",
   "metadata": {},
   "outputs": [
    {
     "data": {
      "image/png": "[encoded data removed]",
      "text/plain": [
       "<Figure size 864x720 with 1 Axes>"
      ]
     },
     "metadata": {},
     "output_type": "display_data"
    }
   ],
   "source": [
    "#датасет, название столбца, заголовок графика\n",
    "print_distplot(data_dur, 'duration', 'Распределение по плотности по использованию минут для тарифов')"
   ]
  },
  {
   "cell_type": "markdown",
   "id": "f0e6a384",
   "metadata": {},
   "source": [
    "Распределения по продолжительности звонков похожи на нормальное. Видно, что с наибольшей вероятностью клиентам нужно около 460 минут в месяц.\n",
    "Гистограмма по обоим тарифам отображает частоту значений в скошенном вправо наборе данных. Датасет с положительной скошенностью и для тарифа smart и для тарифа ultra. Это означает, что есть данные с продолжительностью звонков значительно большей среднего для обоих тарифов. Распределение для тарифа ultra более пологое, это означает, что разброс значений шире, чем у smart, что также показывает меньшее стандартное отклонение для smart - 189 и для ultra - 305 минут.\n",
    "По ultra говорят в среднем больше, чем по smart. Среднее для ultra - 548, для smart - 419 минут.\n",
    "\n",
    "Для тарифа ultra стандартное отклонение составляет 55% от среднего. По тарифу smart эта величнина 44%, что тоже довольно большое значение. \n",
    "Это значит, что надо осторожно ориентироваться на среднее, поскольку разброс значений очень велик. Поэтому для оценки средних важно применить статистический тест."
   ]
  },
  {
   "cell_type": "markdown",
   "id": "853ab0fc",
   "metadata": {},
   "source": [
    "Посмотрим, сколько клиентов не пользуется смс-сообщениями"
   ]
  },
  {
   "cell_type": "code",
   "execution_count": 50,
   "id": "a1d3638c",
   "metadata": {},
   "outputs": [
    {
     "name": "stdout",
     "output_type": "stream",
     "text": [
      "Не используют смс-сообщения : 15.5% клиентов\n"
     ]
    }
   ],
   "source": [
    "no_mes = 1 - ( data.query('messages != 0').shape[0])/data.shape[0]\n",
    "print('Не используют смс-сообщения : {:.1%} клиентов'.format(no_mes))"
   ]
  },
  {
   "cell_type": "markdown",
   "id": "7aae6bf7",
   "metadata": {},
   "source": [
    "Это существенный процент. Рассмотрим только те строки, в которых есть данные о количестве сообщений. \n",
    "Уберем строки в которых количество сообщений = 0."
   ]
  },
  {
   "cell_type": "code",
   "execution_count": 51,
   "id": "38200ec2",
   "metadata": {},
   "outputs": [
    {
     "data": {
      "text/html": [
       "<div>\n",
       "<style scoped>\n",
       "    .dataframe tbody tr th:only-of-type {\n",
       "        vertical-align: middle;\n",
       "    }\n",
       "\n",
       "    .dataframe tbody tr th {\n",
       "        vertical-align: top;\n",
       "    }\n",
       "\n",
       "    .dataframe thead th {\n",
       "        text-align: right;\n",
       "    }\n",
       "</style>\n",
       "<table border=\"1\" class=\"dataframe\">\n",
       "  <thead>\n",
       "    <tr style=\"text-align: right;\">\n",
       "      <th></th>\n",
       "      <th>messages</th>\n",
       "    </tr>\n",
       "    <tr>\n",
       "      <th>tariff</th>\n",
       "      <th></th>\n",
       "    </tr>\n",
       "  </thead>\n",
       "  <tbody>\n",
       "    <tr>\n",
       "      <th>smart</th>\n",
       "      <td>38</td>\n",
       "    </tr>\n",
       "    <tr>\n",
       "      <th>ultra</th>\n",
       "      <td>61</td>\n",
       "    </tr>\n",
       "  </tbody>\n",
       "</table>\n",
       "</div>"
      ],
      "text/plain": [
       "        messages\n",
       "tariff          \n",
       "smart         38\n",
       "ultra         61"
      ]
     },
     "execution_count": 51,
     "metadata": {},
     "output_type": "execute_result"
    }
   ],
   "source": [
    "data_mes = data.query('messages != 0')\n",
    "#Сколько сообщений разговора требуется пользователям каждого тарифа в месяц\n",
    "data_mes.groupby('tariff').agg({'messages': 'mean'}).astype(int)"
   ]
  },
  {
   "cell_type": "code",
   "execution_count": 52,
   "id": "e8b68cdb",
   "metadata": {},
   "outputs": [
    {
     "data": {
      "text/html": [
       "<div>\n",
       "<style scoped>\n",
       "    .dataframe tbody tr th:only-of-type {\n",
       "        vertical-align: middle;\n",
       "    }\n",
       "\n",
       "    .dataframe tbody tr th {\n",
       "        vertical-align: top;\n",
       "    }\n",
       "\n",
       "    .dataframe thead th {\n",
       "        text-align: right;\n",
       "    }\n",
       "</style>\n",
       "<table border=\"1\" class=\"dataframe\">\n",
       "  <thead>\n",
       "    <tr style=\"text-align: right;\">\n",
       "      <th></th>\n",
       "      <th>messages_included</th>\n",
       "      <th>tariff_name</th>\n",
       "    </tr>\n",
       "  </thead>\n",
       "  <tbody>\n",
       "    <tr>\n",
       "      <th>0</th>\n",
       "      <td>50</td>\n",
       "      <td>smart</td>\n",
       "    </tr>\n",
       "    <tr>\n",
       "      <th>1</th>\n",
       "      <td>1000</td>\n",
       "      <td>ultra</td>\n",
       "    </tr>\n",
       "  </tbody>\n",
       "</table>\n",
       "</div>"
      ],
      "text/plain": [
       "   messages_included tariff_name\n",
       "0                 50       smart\n",
       "1               1000       ultra"
      ]
     },
     "execution_count": 52,
     "metadata": {},
     "output_type": "execute_result"
    }
   ],
   "source": [
    "#Сколько смс предоставляется пользователям каждого тарифа в рамках абонентской платы\n",
    "tariffs[['messages_included', 'tariff_name']]"
   ]
  },
  {
   "cell_type": "markdown",
   "id": "a4f09631",
   "metadata": {},
   "source": [
    "Для ultra допускаемое в рамках тарифа количество смс явно выше необходимого среднего. Для smart значения одного порядка и довольно близки."
   ]
  },
  {
   "cell_type": "code",
   "execution_count": 53,
   "id": "f466fb10",
   "metadata": {},
   "outputs": [
    {
     "name": "stdout",
     "output_type": "stream",
     "text": [
      "Дисперсия сообщений для тарифа ultra - 2107.0055235156874\n",
      "Стандартное отклонение сообщений для тарифа ultra - 45.902129836377824\n",
      "Среднее для сообщений тарифа ultra - 61.161006289308176\n"
     ]
    }
   ],
   "source": [
    "# Дисперсия и стандартное отклонение для сообщений тарифа ultra\n",
    "variance = np.var(data_mes.query('tariff == \"ultra\"')['messages'])\n",
    "standard_deviation = np.std(data_mes.query('tariff == \"ultra\"')['messages'])\n",
    "mean = (data_mes.query('tariff == \"ultra\"')['messages'].mean())\n",
    "\n",
    "print('Дисперсия сообщений для тарифа ultra -', variance) \n",
    "print('Стандартное отклонение сообщений для тарифа ultra -', standard_deviation) \n",
    "print('Среднее для сообщений тарифа ultra -', mean) "
   ]
  },
  {
   "cell_type": "code",
   "execution_count": 54,
   "id": "6ffa5122",
   "metadata": {},
   "outputs": [
    {
     "name": "stdout",
     "output_type": "stream",
     "text": [
      "Дисперсия сообщений для тарифа smart - 717.220843110225\n",
      "Стандартное отклонение сообщений для тарифа smart - 26.78097912904278\n",
      "Среднее для сообщений тарифа smart - 38.71644120707596\n"
     ]
    }
   ],
   "source": [
    "# Дисперсия и стандартное отклонение для сообщений тарифа smart\n",
    "variance = np.var(data_mes.query('tariff == \"smart\"')['messages'])\n",
    "standard_deviation = np.std(data_mes.query('tariff == \"smart\"')['messages'])\n",
    "mean = (data_mes.query('tariff == \"smart\"')['messages'].mean())\n",
    "\n",
    "print('Дисперсия сообщений для тарифа smart -', variance) \n",
    "print('Стандартное отклонение сообщений для тарифа smart -', standard_deviation) \n",
    "print('Среднее для сообщений тарифа smart -', mean) "
   ]
  },
  {
   "cell_type": "code",
   "execution_count": 55,
   "id": "49bb8b66",
   "metadata": {},
   "outputs": [
    {
     "name": "stdout",
     "output_type": "stream",
     "text": [
      "Дисперсия смс для обоих тарифов - 1228.1458278273149\n",
      "Стандартное отклонение смс для обоих тарифов - 35.044911582529565\n",
      "Среднее по смс для обоих тарифов - 45.28376886271623\n"
     ]
    }
   ],
   "source": [
    "# Дисперсия и стандартное отклонение для обоих тарифов\n",
    "variance = np.var(data_mes['messages'])\n",
    "standard_deviation = np.std(data_mes['messages'])\n",
    "mean = (data_mes['messages'].mean())\n",
    "\n",
    "print('Дисперсия смс для обоих тарифов -', variance) \n",
    "print('Стандартное отклонение смс для обоих тарифов -', standard_deviation) \n",
    "print('Среднее по смс для обоих тарифов -', mean) "
   ]
  },
  {
   "cell_type": "code",
   "execution_count": 56,
   "id": "787ff0dc",
   "metadata": {},
   "outputs": [
    {
     "data": {
      "image/png": "[encoded data removed]",
      "text/plain": [
       "<Figure size 864x720 with 1 Axes>"
      ]
     },
     "metadata": {},
     "output_type": "display_data"
    }
   ],
   "source": [
    "#датасет, название столбца, заголовок графика\n",
    "print_distplot(data_mes, 'messages', 'Распределение по плотности по количеству смс для тарифов')"
   ]
  },
  {
   "cell_type": "markdown",
   "id": "13a0fd49",
   "metadata": {},
   "source": [
    "Распределение по количеству сообщений существенно скошено вправо. Это говорит о том, что сообщениями все меньше пользуются. Нормальное распределение показывает, что с наибольшей вероятностью, клиенты отправляли около 45смс.\n",
    "\n",
    "По стандартному отклонению можно понять насколько велик разброс значений в датасете и он практически 70% от среднего по обоим тарифам. Волатильность значений высока. Поэтому для сопоставления средних важно применить статистический тест.\n",
    "\n",
    "Распределение для тарифа ultra более пологое, это означает, что разброс значений шире, чем у smart.\n",
    "По тарифу smart чаще используют сообщения, причем укладываются в допустимый лимит по бесплатным смс в рамках тарифа. \n",
    "По ultra максимальное кол-во смс около 250, а допускаемое по тарифу - 3000. "
   ]
  },
  {
   "cell_type": "markdown",
   "id": "cbc02896",
   "metadata": {},
   "source": [
    "Рассмотрим только те строки, в которых есть данные о количестве гигабайтов интернет-трафика. \n",
    "Уберем строки в которых количество гигабайтов = 0, посмотрим, сколько клиентов не пользуется смс-сообщениями"
   ]
  },
  {
   "cell_type": "code",
   "execution_count": 57,
   "id": "e80d017f",
   "metadata": {},
   "outputs": [
    {
     "name": "stdout",
     "output_type": "stream",
     "text": [
      "Не используют интернет : 0.4% клиентов\n"
     ]
    }
   ],
   "source": [
    "no_gb = 1 - ( data.query('gb_used != 0').shape[0])/data.shape[0]\n",
    "print('Не используют интернет : {:.1%} клиентов'.format(no_gb))"
   ]
  },
  {
   "cell_type": "markdown",
   "id": "781690d1",
   "metadata": {},
   "source": [
    "Почти все используют интернет.\n",
    "\n",
    "Уберем строки в которых количество гигабайтов = 0."
   ]
  },
  {
   "cell_type": "code",
   "execution_count": 58,
   "id": "027bf063",
   "metadata": {},
   "outputs": [
    {
     "data": {
      "text/html": [
       "<div>\n",
       "<style scoped>\n",
       "    .dataframe tbody tr th:only-of-type {\n",
       "        vertical-align: middle;\n",
       "    }\n",
       "\n",
       "    .dataframe tbody tr th {\n",
       "        vertical-align: top;\n",
       "    }\n",
       "\n",
       "    .dataframe thead th {\n",
       "        text-align: right;\n",
       "    }\n",
       "</style>\n",
       "<table border=\"1\" class=\"dataframe\">\n",
       "  <thead>\n",
       "    <tr style=\"text-align: right;\">\n",
       "      <th></th>\n",
       "      <th>gb_used</th>\n",
       "    </tr>\n",
       "    <tr>\n",
       "      <th>tariff</th>\n",
       "      <th></th>\n",
       "    </tr>\n",
       "  </thead>\n",
       "  <tbody>\n",
       "    <tr>\n",
       "      <th>smart</th>\n",
       "      <td>16</td>\n",
       "    </tr>\n",
       "    <tr>\n",
       "      <th>ultra</th>\n",
       "      <td>19</td>\n",
       "    </tr>\n",
       "  </tbody>\n",
       "</table>\n",
       "</div>"
      ],
      "text/plain": [
       "        gb_used\n",
       "tariff         \n",
       "smart        16\n",
       "ultra        19"
      ]
     },
     "execution_count": 58,
     "metadata": {},
     "output_type": "execute_result"
    }
   ],
   "source": [
    "#Сколько траффика требуется пользователям каждого тарифа в месяц\n",
    "data_gb = data.query('gb_used != 0')\n",
    "data_gb.groupby('tariff').agg({'gb_used': 'mean'}).astype(int)"
   ]
  },
  {
   "cell_type": "code",
   "execution_count": 59,
   "id": "bf3a308c",
   "metadata": {},
   "outputs": [
    {
     "data": {
      "text/html": [
       "<div>\n",
       "<style scoped>\n",
       "    .dataframe tbody tr th:only-of-type {\n",
       "        vertical-align: middle;\n",
       "    }\n",
       "\n",
       "    .dataframe tbody tr th {\n",
       "        vertical-align: top;\n",
       "    }\n",
       "\n",
       "    .dataframe thead th {\n",
       "        text-align: right;\n",
       "    }\n",
       "</style>\n",
       "<table border=\"1\" class=\"dataframe\">\n",
       "  <thead>\n",
       "    <tr style=\"text-align: right;\">\n",
       "      <th></th>\n",
       "      <th>gb_per_month_included</th>\n",
       "      <th>tariff_name</th>\n",
       "    </tr>\n",
       "  </thead>\n",
       "  <tbody>\n",
       "    <tr>\n",
       "      <th>0</th>\n",
       "      <td>15</td>\n",
       "      <td>smart</td>\n",
       "    </tr>\n",
       "    <tr>\n",
       "      <th>1</th>\n",
       "      <td>30</td>\n",
       "      <td>ultra</td>\n",
       "    </tr>\n",
       "  </tbody>\n",
       "</table>\n",
       "</div>"
      ],
      "text/plain": [
       "   gb_per_month_included tariff_name\n",
       "0                     15       smart\n",
       "1                     30       ultra"
      ]
     },
     "execution_count": 59,
     "metadata": {},
     "output_type": "execute_result"
    }
   ],
   "source": [
    "#Сколько гигабайт предоставляется пользователям каждого тарифа в рамках абонентской платы\n",
    "tariffs[['gb_per_month_included', 'tariff_name']]"
   ]
  },
  {
   "cell_type": "markdown",
   "id": "288726d9",
   "metadata": {},
   "source": [
    "пользователям ultra в среднем не хватает 1 гб, оператор предоставляет 15 в рамках абонентской платы. Пользователи ultra обеспечены 30 бесплатными гигабайтами, из которых задействуют 19."
   ]
  },
  {
   "cell_type": "code",
   "execution_count": 60,
   "id": "a6677ccd",
   "metadata": {},
   "outputs": [
    {
     "name": "stdout",
     "output_type": "stream",
     "text": [
      "Дисперсия траффика,гб для тарифа ultra - 93.74810367290844\n",
      "Стандартное отклонение траффика,гб для тарифа ultra - 9.682360439113411\n",
      "Среднее для траффика,гб тарифа ultra - 19.71457905544148\n"
     ]
    }
   ],
   "source": [
    "# Дисперсия и стандартное отклонение для гигабайтов тарифа ultra\n",
    "variance = np.var(data_gb.query('tariff == \"ultra\"')['gb_used'])\n",
    "standard_deviation = np.std(data_gb.query('tariff == \"ultra\"')['gb_used'])\n",
    "mean = (data_gb.query('tariff == \"ultra\"')['gb_used'].mean())\n",
    "\n",
    "print('Дисперсия траффика,гб для тарифа ultra -', variance) \n",
    "print('Стандартное отклонение траффика,гб для тарифа ultra -', standard_deviation) \n",
    "print('Среднее для траффика,гб тарифа ultra -', mean) "
   ]
  },
  {
   "cell_type": "code",
   "execution_count": 61,
   "id": "a132967a",
   "metadata": {},
   "outputs": [
    {
     "name": "stdout",
     "output_type": "stream",
     "text": [
      "Дисперсия траффика,гб для тарифа smart - 32.803867867291466\n",
      "Стандартное отклонение траффика,гб для тарифа smart - 5.7274660948181495\n",
      "Среднее для траффика,гб тарифа smart - 16.34351145038168\n"
     ]
    }
   ],
   "source": [
    "# Дисперсия и стандартное отклонение для гигабайтов тарифа smart\n",
    "variance = np.var(data_gb.query('tariff == \"smart\"')['gb_used'])\n",
    "standard_deviation = np.std(data_gb.query('tariff == \"smart\"')['gb_used'])\n",
    "mean = (data_gb.query('tariff == \"smart\"')['gb_used'].mean())\n",
    "\n",
    "print('Дисперсия траффика,гб для тарифа smart -', variance) \n",
    "print('Стандартное отклонение траффика,гб для тарифа smart -', standard_deviation) \n",
    "print('Среднее для траффика,гб тарифа smart -', mean) "
   ]
  },
  {
   "cell_type": "code",
   "execution_count": 62,
   "id": "71f0dc36",
   "metadata": {},
   "outputs": [
    {
     "name": "stdout",
     "output_type": "stream",
     "text": [
      "Дисперсия гб для обоих тарифов - 53.7536817073624\n",
      "Стандартное отклонение гб для обоих тарифов - 7.331690235366085\n",
      "Среднее по гб для обоих тарифов - 17.36925960637301\n"
     ]
    }
   ],
   "source": [
    "# Дисперсия и стандартное отклонение для обоих тарифов\n",
    "variance = np.var(data_gb['gb_used'])\n",
    "standard_deviation = np.std(data_gb['gb_used'])\n",
    "mean = (data_gb['gb_used'].mean())\n",
    "\n",
    "print('Дисперсия гб для обоих тарифов -', variance) \n",
    "print('Стандартное отклонение гб для обоих тарифов -', standard_deviation) \n",
    "print('Среднее по гб для обоих тарифов -', mean) "
   ]
  },
  {
   "cell_type": "code",
   "execution_count": 63,
   "id": "5c29f72c",
   "metadata": {},
   "outputs": [
    {
     "data": {
      "image/png": "[encoded data removed]",
      "text/plain": [
       "<Figure size 864x720 with 1 Axes>"
      ]
     },
     "metadata": {},
     "output_type": "display_data"
    }
   ],
   "source": [
    "#датасет, название столбца, заголовок графика\n",
    "print_distplot(data_gb, 'gb_used', 'Распределение по плотности по количеству гб для тарифов')"
   ]
  },
  {
   "cell_type": "markdown",
   "id": "b712ee4a",
   "metadata": {},
   "source": [
    "Распределение по количеству использованных гигабайтов более плавное для пользователей ultra, в то время как для тарифа smart с большей вроятностью пользователи выходят за пороговое бесплатное значении тарифа 15 гб, доходя до 20 гб.\n",
    "Нормальное распределение по обоим тарифам показывает, что вероятнее всего, клиенты использовали около 17 гб в месяц.\n",
    "\n",
    "Распределение для тарифа ultra более пологое, это означает, что стандартное отклонение больше и разброс значений шире, чем у smart. По стандартному отклонению можно понять насколько велик разброс значений в датасете и он практически 50% среднего по ultra и 35% - по smart. Волатильность высока, поэтому среднему значению доверять не стоит и для сравнения средних важно применить статистический тест."
   ]
  },
  {
   "cell_type": "markdown",
   "id": "89c35531",
   "metadata": {},
   "source": [
    "#### Вывод\n",
    "\n",
    "Пользователям тарифа ultra требуется, в среднем, больше минут разговора, сообщений и интернет-трафика, чем пользователям smart. Распределение для тарифа ultra по всем показателям более пологое, это означает, что стандартное отклонение больше и разброс значений шире, чем у smart. Поскольку по тарифам стандартное отклонение не отличается от среднего в разы, волатильность значений высока, то для сравнения средних стоит применить статистический тест.\n",
    "\n",
    "Получили данные, что по тарифу smart выручка, полученная по абонентской плате примерно равна выручке за услуги не включенные в абонентскую плату. По тарифу ultra переплат сверх тарифа меньше - 40% от оплаты по тарифу."
   ]
  },
  {
   "cell_type": "markdown",
   "id": "1ac85386",
   "metadata": {},
   "source": [
    "## Проверка гипотез"
   ]
  },
  {
   "cell_type": "markdown",
   "id": "213f88ca",
   "metadata": {},
   "source": [
    "Проверим следующие гипотезы:\n",
    "\n",
    "•\tсредняя выручка пользователей тарифов «Ультра» и «Смарт» различается;\n",
    "\n",
    "•\tсредняя выручка пользователей из Москвы отличается от выручки пользователей из других регионов;"
   ]
  },
  {
   "cell_type": "markdown",
   "id": "ab4b9148",
   "metadata": {},
   "source": [
    "Когда генеральных совокупностей две, как при тарифах smart и ultra, нужно сопоставить их средние. Чтобы проверить гипотезу о равенстве среднего двух генеральных совокупностей по взятым из них выборкам, применим метод scipy.stats.ttest_ind (array1, array2, equal_var).\n",
    "Те, вместо расчёта и сравнения самих средних, используем датасеты для проведения статистического теста\n",
    "\n",
    "Нулевую гипотезу формулируем, как равенство.\n",
    "\n",
    "Решаем вопрос о принятии или отвержении нулевой гипотезы по p-value, как вероятность ошибки при отклонении нулевой гипотезы. То есть, чем выше p-value тем скорее отклонение нулевой гипотезы будет ошибочным."
   ]
  },
  {
   "cell_type": "markdown",
   "id": "28cd6577",
   "metadata": {},
   "source": [
    "#### Нулевая гипотеза: средняя выручка пользователей тарифов ultra и smart одинакова. \n",
    "Альтернативная гипотеза: средняя выручка пользователей тарифов ultra не совпадает со средней выручкой smart\n",
    "\n",
    "Применяем гипотезу о равенстве средних двух генеральных совокупностей.\n",
    "Значима ли разница между этими числами, посмотрим по дисперсии выборок, по которым рассчитаны значения\n",
    "\n",
    "Дисперсии совокупностей отличаются, поэтому параметр equal_var нужно указать как False"
   ]
  },
  {
   "cell_type": "code",
   "execution_count": 64,
   "id": "d72edb29",
   "metadata": {},
   "outputs": [
    {
     "name": "stdout",
     "output_type": "stream",
     "text": [
      "Характеристики ежемесячной выручки ultra\n",
      "count     985\n",
      "mean     2070\n",
      "std       376\n",
      "min      1950\n",
      "25%      1950\n",
      "50%      1950\n",
      "75%      1950\n",
      "max      4800\n",
      "Name: revenue_month, dtype: int32\n",
      "Дисперися для ultra 141373.07325620213\n",
      "\n",
      "Характеристики ежемесячной выручки smart\n",
      "count    2229\n",
      "mean     1289\n",
      "std       818\n",
      "min       550\n",
      "25%       550\n",
      "50%      1023\n",
      "75%      1750\n",
      "max      6770\n",
      "Name: revenue_month, dtype: int32\n",
      "Дисперися для smart 669485.2209234155\n"
     ]
    }
   ],
   "source": [
    "# Построим гистограммой частот\n",
    "# По горизонтальной оси — revenue_month выруска с пользователя за месяц, по вертикальной — частота значений\n",
    "\n",
    "print('Характеристики ежемесячной выручки ultra')\n",
    "print(data.query('tariff == \"ultra\"')['revenue_month'].describe().astype(int))\n",
    "print('Дисперися для ultra', np.var(data.query('tariff == \"ultra\"')['revenue_month']))\n",
    "print()\n",
    "print('Характеристики ежемесячной выручки smart')\n",
    "print(data.query('tariff == \"smart\"')['revenue_month'].describe().astype(int))\n",
    "print('Дисперися для smart', np.var(data.query('tariff == \"smart\"')['revenue_month']))"
   ]
  },
  {
   "cell_type": "code",
   "execution_count": 65,
   "id": "1111406b",
   "metadata": {},
   "outputs": [
    {
     "name": "stdout",
     "output_type": "stream",
     "text": [
      "p-значение: 4.2606313931076085e-250\n",
      "Отвергаем нулевую гипотезу\n"
     ]
    }
   ],
   "source": [
    "alpha = 0.05  # критический уровень статистической значимости\n",
    "# если p-value окажется меньше него - отвергнем гипотезу\n",
    "\n",
    "results = st.ttest_ind(data.query('tariff == \"ultra\"')['revenue_month'], \n",
    "                       data.query('tariff == \"smart\"')['revenue_month'], \n",
    "                       equal_var = False)\n",
    "\n",
    "print('p-значение:', results.pvalue)\n",
    "\n",
    "if results.pvalue < alpha:\n",
    "    print('Отвергаем нулевую гипотезу')\n",
    "else:\n",
    "    print('Не получилось отвергнуть нулевую гипотезу') "
   ]
  },
  {
   "cell_type": "markdown",
   "id": "6b7d1271",
   "metadata": {},
   "source": [
    "p-значение очень мало, нулевая гипотеза о том, что средняя выручка по тарифам ultra и smart одинакова отвергается. Скорее всего, средняя выручка от пользователей тарифов ultra и smart отличается и средняя выручка от пользователей тарифов ultra больше smart, поскольку характеристика среднего для ultra (2070) больше smart (1289)"
   ]
  },
  {
   "cell_type": "markdown",
   "id": "1697967c",
   "metadata": {},
   "source": [
    "#### Нулевая гипотеза: средняя выручка пользователей из Москвы равна выручке пользователей из других регионов.\n",
    "\n",
    "Альтернативная гипотеза, в таком случае, средняя выручка пользователей из Москвы не равна выручке пользователей из других регионов"
   ]
  },
  {
   "cell_type": "code",
   "execution_count": 66,
   "id": "a9308a5f",
   "metadata": {},
   "outputs": [
    {
     "name": "stdout",
     "output_type": "stream",
     "text": [
      "Характеристики ежемесячной выручки для Москвы\n",
      "count     611\n",
      "mean     1546\n",
      "std       752\n",
      "min       550\n",
      "25%       780\n",
      "50%      1750\n",
      "75%      1950\n",
      "max      5321\n",
      "Name: revenue_month, dtype: int32\n",
      "Дисперися для Москвы 564710.7117467269\n",
      "\n",
      "Характеристики ежемесячной выручки для других городов\n",
      "count    2603\n",
      "mean     1524\n",
      "std       808\n",
      "min       550\n",
      "25%       750\n",
      "50%      1583\n",
      "75%      1950\n",
      "max      6770\n",
      "Name: revenue_month, dtype: int32\n",
      "Дисперися для других городов 653886.3270894106\n"
     ]
    }
   ],
   "source": [
    "# Построим гистограммой частот\n",
    "# По горизонтальной оси — revenue_month выруска с пользователя за месяц, по вертикальной — частота значений\n",
    "\n",
    "print('Характеристики ежемесячной выручки для Москвы')\n",
    "print(data.query('city == \"Москва\"')['revenue_month'].describe().astype(int))\n",
    "print('Дисперися для Москвы', np.var(data.query('city == \"Москва\"')['revenue_month']))\n",
    "print()\n",
    "print('Характеристики ежемесячной выручки для других городов')\n",
    "print(data.query('city != \"Москва\"')['revenue_month'].describe().astype(int))\n",
    "print('Дисперися для других городов', np.var(data.query('city != \"Москва\"')['revenue_month']))\n"
   ]
  },
  {
   "cell_type": "markdown",
   "id": "abeecdc1",
   "metadata": {},
   "source": [
    "Гипотеза о равенстве средних двух генеральных совокупностей, для Москвы и других городов. Среднее по двум выборкам похоже по рассчитаным характеристикам. Проверим по статистическому тесту.\n",
    "Дисперсии совокупностей отличаются, поэтому параметр equal_var нужно указать как False"
   ]
  },
  {
   "cell_type": "code",
   "execution_count": 67,
   "id": "c5f06881",
   "metadata": {},
   "outputs": [
    {
     "name": "stdout",
     "output_type": "stream",
     "text": [
      "p-значение: 0.5257376663729298\n",
      "Не получилось отвергнуть нулевую гипотезу\n"
     ]
    }
   ],
   "source": [
    "alpha = 0.05  # критический уровень статистической значимости\n",
    "# если p-value окажется меньше него - отвергнем гипотезу\n",
    "# p-value уровень значимости для статистики разности между средними значениеми\n",
    "\n",
    "results = st.ttest_ind(data.query('city == \"Москва\"')['revenue_month'], \n",
    "                       data.query('city != \"Москва\"')['revenue_month'], \n",
    "                       equal_var = False)\n",
    "\n",
    "print('p-значение:', results.pvalue)\n",
    "\n",
    "if results.pvalue < alpha:\n",
    "    print('Отвергаем нулевую гипотезу')\n",
    "else:\n",
    "    print('Не получилось отвергнуть нулевую гипотезу') "
   ]
  },
  {
   "cell_type": "markdown",
   "id": "92c8ab38",
   "metadata": {},
   "source": [
    "Нулевая гипотеза скорее всего верна, те средняя выручка пользователей из Москвы близка выручке пользователей из других регионов."
   ]
  },
  {
   "cell_type": "code",
   "execution_count": 68,
   "id": "8ec7ab38",
   "metadata": {},
   "outputs": [
    {
     "data": {
      "image/png": "[encoded data removed]",
      "text/plain": [
       "<Figure size 1080x720 with 1 Axes>"
      ]
     },
     "metadata": {},
     "output_type": "display_data"
    }
   ],
   "source": [
    "# Составим сводные таблицы, в которых данные будут сгруппированы по месяцам\n",
    "data_ul = data.query('tariff == \"ultra\"').pivot_table(index='month', values='revenue_month', aggfunc='mean' ).astype(int)\n",
    "data_sm = data.query('tariff == \"smart\"').pivot_table(index='month', values='revenue_month', aggfunc='mean' ).astype(int)\n",
    "\n",
    "# посмотрим среднее распределение выручки по двум тарифам\n",
    "\n",
    "ax = data_ul.plot(\n",
    "    y='revenue_month',\n",
    "    linewidth=2,\n",
    "    alpha=0.7,\n",
    "    label='ultra',\n",
    "    figsize=(15,10)\n",
    ")\n",
    "\n",
    "data_sm.plot(\n",
    "    y='revenue_month',\n",
    "    linewidth=2,\n",
    "    alpha=0.7,\n",
    "    label='smart',\n",
    "    ax=ax,\n",
    "    grid=True,\n",
    "    legend=True,\n",
    ") \n",
    "\n",
    "plt.title('Среднее распределение выручки для тарифов smart и ultra по месяцам')\n",
    "plt.show()"
   ]
  },
  {
   "cell_type": "code",
   "execution_count": 69,
   "id": "42fd901c",
   "metadata": {},
   "outputs": [
    {
     "data": {
      "text/html": [
       "<div>\n",
       "<style scoped>\n",
       "    .dataframe tbody tr th:only-of-type {\n",
       "        vertical-align: middle;\n",
       "    }\n",
       "\n",
       "    .dataframe tbody tr th {\n",
       "        vertical-align: top;\n",
       "    }\n",
       "\n",
       "    .dataframe thead tr th {\n",
       "        text-align: left;\n",
       "    }\n",
       "\n",
       "    .dataframe thead tr:last-of-type th {\n",
       "        text-align: right;\n",
       "    }\n",
       "</style>\n",
       "<table border=\"1\" class=\"dataframe\">\n",
       "  <thead>\n",
       "    <tr>\n",
       "      <th></th>\n",
       "      <th colspan=\"2\" halign=\"left\">revenue_month</th>\n",
       "    </tr>\n",
       "    <tr>\n",
       "      <th></th>\n",
       "      <th>sum</th>\n",
       "      <th>count</th>\n",
       "    </tr>\n",
       "    <tr>\n",
       "      <th>tariff</th>\n",
       "      <th></th>\n",
       "      <th></th>\n",
       "    </tr>\n",
       "  </thead>\n",
       "  <tbody>\n",
       "    <tr>\n",
       "      <th>smart</th>\n",
       "      <td>2875351</td>\n",
       "      <td>2229</td>\n",
       "    </tr>\n",
       "    <tr>\n",
       "      <th>ultra</th>\n",
       "      <td>2039100</td>\n",
       "      <td>985</td>\n",
       "    </tr>\n",
       "  </tbody>\n",
       "</table>\n",
       "</div>"
      ],
      "text/plain": [
       "       revenue_month      \n",
       "                 sum count\n",
       "tariff                    \n",
       "smart        2875351  2229\n",
       "ultra        2039100   985"
      ]
     },
     "execution_count": 69,
     "metadata": {},
     "output_type": "execute_result"
    }
   ],
   "source": [
    "#Какова суммарная выручка по тарифам и количество пользователей каждого\n",
    "data.groupby('tariff').agg({'revenue_month': ('sum', 'count')}).astype(int)"
   ]
  },
  {
   "cell_type": "markdown",
   "id": "24132f12",
   "metadata": {},
   "source": [
    "К концу года показатели средней выручки растут. Судя по графику, вручка для тарифов smart выше, чем по тарифу ultra. Несмотря на то, что клиентов ultra в 2,3 раза меньше, чем клиентов smart, выручки они приносят меньше всего в 1,4 раза. "
   ]
  },
  {
   "cell_type": "markdown",
   "id": "478d2d4a",
   "metadata": {},
   "source": [
    "#### Вывод\n",
    "\n",
    "Результаты статичтических тестов не противоречат гипотезе, что средняя выручка от пользователей тарифов ultra больше средней выручки от пользователей тарифов smart. Нельзя отвергнуть гипотезу, что средняя выручка от пользователей из Москвы равна выручке от пользователей из других регионов."
   ]
  },
  {
   "cell_type": "markdown",
   "id": "95ac5835",
   "metadata": {},
   "source": [
    "## Общий вывод "
   ]
  },
  {
   "cell_type": "markdown",
   "id": "8f15ff9c",
   "metadata": {},
   "source": [
    "Изучили данные 500 пользователей сети Мегалайн за 2018 год.\n",
    "В ходе работ нужно было установить, какой из тарифов: ultra или smart выгоднее для компании.\n",
    "\n",
    "Данные были обработаны и для каждого пользователя расчитано сколько минут, смс и гб было использовано в месяц и сколько он потратил на услуги связи, в том числе сверх тарифа. Получили данные, что по тарифу smart выручка, полученная по абонентской плате примерно равна выручке за услуги не включенные в абонентскую плату. По тарифу ultra переплат сверх тарифа меньше - 40% от оплаты по тарифу.\n",
    "\n",
    "Выяснили, что не используют звонки 1,4% клиентов, не используют смс-сообщения 15.5% клиентов, не используют интернет 0.4% клиентов.\n",
    "\n",
    "Исследованы данные по каждому тарифу. С наибольшей вероятностью, клиентам нужно около 460 минут разговора в месяц, порядка 45 смс и 17 гб в месяц, в среднем для всех тарифов. \n",
    "\n",
    "По тарифу ultra средние значения в месяц:  457 минут, 61 смс, 19 Гб. \n",
    "По тарифу smart средние значения в месяц:  419 минут, 38 смс, 16 Гб\n",
    "\n",
    "По продолжительности звонков и количеству смс распределение с положительной скошенностью и для тарифа smart и для тарифа ultra.\n",
    "Это означает, что есть пользователи с продолжительностью звонков и количеством смс значительно больше среднего для обоих тарифов. По количеству гб распределение более симметричное. Для тарифа smart с большей вроятностью пользователи выходят за пороговое бесплатное значении тарифа 15 гб.\n",
    "\n",
    "Распределение для тарифа ultra всегда более пологое, это означает, что разброс значений шире, чем у smart.\n",
    "По всем показателям стандартное отклонение существенно, волатильность значений высокая и для сопоставления средних важно применить статистический тест.\n",
    "\n",
    "На заключительном этапе исследования проверяли гипотезы, применяя статистические тесты. Тесты показали, что с высокой степенью вероятности можем утверждать, что средняя выручка от пользователей тарифов ultra и smart отличается и средняя выручка от пользователей тарифов ultra больше smart, а средняя выручка пользователей из Москвы близка выручке пользователей из других регионов. \n",
    "\n",
    "Тариф ultra выгоднее для компании, чем тариф smart. Клиентов ultra в 2,3 раза меньше, чем клиентов smart, но выручки они приносят меньше всего в 1,4 раза. К концу года показатели средней выручки растут. "
   ]
  }
 ],
 "metadata": {
  "ExecuteTimeLog": [
   {
    "duration": 997,
    "start_time": "2021-06-28T19:25:28.541Z"
   },
   {
    "duration": 154,
    "start_time": "2021-06-28T19:25:29.539Z"
   },
   {
    "duration": 20,
    "start_time": "2021-06-28T19:25:29.695Z"
   },
   {
    "duration": 4,
    "start_time": "2021-06-28T19:25:29.717Z"
   },
   {
    "duration": 11,
    "start_time": "2021-06-28T19:25:29.723Z"
   },
   {
    "duration": 143,
    "start_time": "2021-06-28T19:25:29.736Z"
   },
   {
    "duration": 18,
    "start_time": "2021-06-28T19:25:29.881Z"
   },
   {
    "duration": 5,
    "start_time": "2021-06-28T19:25:29.903Z"
   },
   {
    "duration": 10,
    "start_time": "2021-06-28T19:25:29.910Z"
   },
   {
    "duration": 115,
    "start_time": "2021-06-28T19:25:29.922Z"
   },
   {
    "duration": 17,
    "start_time": "2021-06-28T19:25:30.039Z"
   },
   {
    "duration": 31,
    "start_time": "2021-06-28T19:25:30.058Z"
   },
   {
    "duration": 37,
    "start_time": "2021-06-28T19:25:30.091Z"
   },
   {
    "duration": 9,
    "start_time": "2021-06-28T19:25:30.130Z"
   },
   {
    "duration": 8,
    "start_time": "2021-06-28T19:25:30.141Z"
   },
   {
    "duration": 11,
    "start_time": "2021-06-28T19:25:30.151Z"
   },
   {
    "duration": 1951,
    "start_time": "2021-06-28T19:25:30.164Z"
   },
   {
    "duration": 10,
    "start_time": "2021-06-28T19:25:32.117Z"
   },
   {
    "duration": 73,
    "start_time": "2021-06-28T19:25:32.129Z"
   },
   {
    "duration": 36,
    "start_time": "2021-06-28T19:25:32.204Z"
   },
   {
    "duration": 8,
    "start_time": "2021-06-28T19:25:32.242Z"
   },
   {
    "duration": 67,
    "start_time": "2021-06-28T19:25:32.252Z"
   },
   {
    "duration": 27,
    "start_time": "2021-06-28T19:25:32.324Z"
   },
   {
    "duration": 222,
    "start_time": "2021-06-28T19:25:32.354Z"
   },
   {
    "duration": 40,
    "start_time": "2021-06-28T19:25:32.578Z"
   },
   {
    "duration": 23,
    "start_time": "2021-06-28T19:25:32.620Z"
   },
   {
    "duration": 43,
    "start_time": "2021-06-28T19:25:32.645Z"
   },
   {
    "duration": 17,
    "start_time": "2021-06-28T19:25:32.690Z"
   },
   {
    "duration": 10,
    "start_time": "2021-06-28T19:25:32.709Z"
   },
   {
    "duration": 10,
    "start_time": "2021-06-28T19:25:32.720Z"
   },
   {
    "duration": 5,
    "start_time": "2021-06-28T19:25:32.732Z"
   },
   {
    "duration": 58,
    "start_time": "2021-06-28T19:25:32.738Z"
   },
   {
    "duration": 23,
    "start_time": "2021-06-28T19:25:32.798Z"
   },
   {
    "duration": 6,
    "start_time": "2021-06-28T19:25:32.823Z"
   },
   {
    "duration": 21,
    "start_time": "2021-06-28T19:25:32.831Z"
   },
   {
    "duration": 36,
    "start_time": "2021-06-28T19:25:32.854Z"
   },
   {
    "duration": 7,
    "start_time": "2021-06-28T19:25:32.892Z"
   },
   {
    "duration": 269,
    "start_time": "2021-06-28T19:25:32.901Z"
   },
   {
    "duration": 389,
    "start_time": "2021-06-28T19:25:33.172Z"
   },
   {
    "duration": 25,
    "start_time": "2021-06-28T19:25:33.563Z"
   },
   {
    "duration": 14,
    "start_time": "2021-06-28T19:25:33.590Z"
   },
   {
    "duration": 6,
    "start_time": "2021-06-28T19:25:33.606Z"
   },
   {
    "duration": 12,
    "start_time": "2021-06-28T19:25:33.614Z"
   },
   {
    "duration": 8,
    "start_time": "2021-06-28T19:25:33.627Z"
   },
   {
    "duration": 48,
    "start_time": "2021-06-28T19:25:33.637Z"
   },
   {
    "duration": 13,
    "start_time": "2021-06-28T19:25:33.687Z"
   },
   {
    "duration": 5,
    "start_time": "2021-06-28T19:25:33.702Z"
   },
   {
    "duration": 4,
    "start_time": "2021-06-28T19:25:33.709Z"
   },
   {
    "duration": 6,
    "start_time": "2021-06-28T19:25:33.715Z"
   },
   {
    "duration": 281,
    "start_time": "2021-06-28T19:25:33.723Z"
   },
   {
    "duration": 567,
    "start_time": "2021-06-28T19:25:34.007Z"
   },
   {
    "duration": 14,
    "start_time": "2021-06-28T19:25:34.576Z"
   },
   {
    "duration": 11,
    "start_time": "2021-06-28T19:25:34.592Z"
   },
   {
    "duration": 8,
    "start_time": "2021-06-28T19:25:34.605Z"
   },
   {
    "duration": 95,
    "start_time": "2021-06-28T19:25:34.615Z"
   },
   {
    "duration": 11,
    "start_time": "2021-06-28T19:25:34.711Z"
   },
   {
    "duration": 5,
    "start_time": "2021-06-28T19:25:34.723Z"
   },
   {
    "duration": 343,
    "start_time": "2021-06-28T19:25:34.729Z"
   },
   {
    "duration": 584,
    "start_time": "2021-06-28T19:25:35.074Z"
   },
   {
    "duration": 6,
    "start_time": "2021-06-28T19:25:35.660Z"
   },
   {
    "duration": 24,
    "start_time": "2021-06-28T19:25:35.667Z"
   },
   {
    "duration": 7,
    "start_time": "2021-06-28T19:25:35.692Z"
   },
   {
    "duration": 11,
    "start_time": "2021-06-28T19:25:35.700Z"
   },
   {
    "duration": 12,
    "start_time": "2021-06-28T19:25:35.712Z"
   },
   {
    "duration": 5,
    "start_time": "2021-06-28T19:25:35.726Z"
   },
   {
    "duration": 363,
    "start_time": "2021-06-28T19:25:35.733Z"
   },
   {
    "duration": 580,
    "start_time": "2021-06-28T19:25:36.098Z"
   },
   {
    "duration": 20,
    "start_time": "2021-06-28T19:25:36.686Z"
   },
   {
    "duration": 10,
    "start_time": "2021-06-28T19:25:36.708Z"
   },
   {
    "duration": 19,
    "start_time": "2021-06-28T19:25:36.720Z"
   },
   {
    "duration": 9,
    "start_time": "2021-06-28T19:25:36.741Z"
   },
   {
    "duration": 418,
    "start_time": "2021-06-28T19:25:36.752Z"
   },
   {
    "duration": 19,
    "start_time": "2021-06-28T19:25:37.172Z"
   },
   {
    "duration": 4347,
    "start_time": "2021-06-28T19:40:37.893Z"
   },
   {
    "duration": 10,
    "start_time": "2021-06-28T19:40:46.797Z"
   },
   {
    "duration": 13,
    "start_time": "2021-06-28T19:40:49.893Z"
   },
   {
    "duration": 1699,
    "start_time": "2021-06-28T19:43:38.882Z"
   },
   {
    "duration": 544,
    "start_time": "2021-06-28T19:43:52.759Z"
   },
   {
    "duration": 74,
    "start_time": "2021-06-28T19:51:34.838Z"
   }
  ],
  "kernelspec": {
   "display_name": "Python 3",
   "language": "python",
   "name": "python3"
  },
  "language_info": {
   "codemirror_mode": {
    "name": "ipython",
    "version": 3
   },
   "file_extension": ".py",
   "mimetype": "text/x-python",
   "name": "python",
   "nbconvert_exporter": "python",
   "pygments_lexer": "ipython3",
   "version": "3.7.10"
  },
  "toc": {
   "base_numbering": 1,
   "nav_menu": {},
   "number_sections": true,
   "sideBar": true,
   "skip_h1_title": true,
   "title_cell": "Table of Contents",
   "title_sidebar": "Contents",
   "toc_cell": false,
   "toc_position": {},
   "toc_section_display": true,
   "toc_window_display": false
  }
 },
 "nbformat": 4,
 "nbformat_minor": 5
}
